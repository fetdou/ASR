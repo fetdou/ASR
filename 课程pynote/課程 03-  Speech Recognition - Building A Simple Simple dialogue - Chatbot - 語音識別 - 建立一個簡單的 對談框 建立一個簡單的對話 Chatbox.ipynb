{
 "cells": [
  {
   "cell_type": "markdown",
   "metadata": {},
   "source": [
    "<h1 align='center' style='color:purple'> Speech Recognition 語音識別 - 課程 03-  Speech Recognition - Building A Simple Chatbox - 語音識別 - 建立一個簡單的對話 Chatbox - Python Tutorial</h1>"
   ]
  },
  {
   "cell_type": "raw",
   "metadata": {},
   "source": [
    "'''\n",
    "\n",
    "人工智慧-深度學習\n",
    "\n",
    "A.I Tutorials \n",
    "Deep Learning 教程 \n",
    "\n",
    "''' \n",
    "\n",
    "    04 - 課程    - Speech Recognition 語音識別\n",
    "\n",
    "         課程 03 - Speech Recognition \n",
    "                            - 課程 03-  Speech Recognition - Building A Simple Chatbox - 語音識別 - 建立一個簡單的對話 Chatbox \n",
    "                                \n",
    "                                \n",
    "         課程 03 - 語音識別  - 語音識別 \n",
    "                            - 建立一個簡單的對話 Chatbox\n",
    "                            \n",
    "                            \n",
    "                   程式範例 :  語音翻譯              - Speech to Text\n",
    "                              文本到語音文件 - 保存  - Text to Voice-File - with Saving\n",
    "                              建立 簡單的對話        - Simple Dialogue - Chatbot\n",
    "                                                \n",
    "                                                \n",
    "                                                    - 語音文件 - 播放\n",
    "                                                        - Voice File - Playing \n",
    " \n",
    "'''  教程簡介 '''\n",
    "'''  語音識別 '''\n",
    "\n",
    "''' "
   ]
  },
  {
   "cell_type": "markdown",
   "metadata": {},
   "source": [
    "<img src=\"https://miro.medium.com/max/963/0*5tw5fshRQOT4uLAk.png\" width=\"75%\">"
   ]
  },
  {
   "cell_type": "raw",
   "metadata": {},
   "source": [
    "'''\n",
    "\n",
    ">> 資料準備\n",
    "\n",
    "    >> 你我互動學習園地\n",
    "        >> https://interactiveuandmetutorials.weebly.com/\n",
    "    \n",
    "    >> Python 程式語言 設計\n",
    "       >> https://pythonprogrammingtutorials.weebly.com/\n",
    "\n",
    "    \n",
    ">> 檔案路徑/\n",
    "    ├── 課程 03-  Speech Recognition - Building A Simple Chatbox - 語音識別 - 建立一個簡單的對話 Chatbox\n",
    "    ├\n",
    "    ├────── Audio課程3/\n",
    "              ├── hello1.mp3             \n",
    "              ├── hello2.mp3  \n",
    "              ├── hello4.mp3  \n",
    "              ├── english.mp3  \n",
    "'''"
   ]
  },
  {
   "cell_type": "code",
   "execution_count": 57,
   "metadata": {},
   "outputs": [
    {
     "name": "stdout",
     "output_type": "stream",
     "text": [
      " 磁碟區 C 中的磁碟是 OS\n",
      " 磁碟區序號:  68E3-32FD\n",
      "\n",
      " C:\\Users\\calvi\\OneDrive\\桌面\\課程SpeechRecogination\\課程3 的目錄\n",
      "\n",
      "2019/09/24  上午 09:57    <DIR>          .\n",
      "2019/09/24  上午 09:57    <DIR>          ..\n",
      "2019/09/24  上午 09:19    <DIR>          .ipynb_checkpoints\n",
      "2019/09/24  上午 09:20    <DIR>          Audio課程3\n",
      "               0 個檔案               0 位元組\n",
      "               4 個目錄  44,785,037,312 位元組可用\n"
     ]
    }
   ],
   "source": [
    "ddir"
   ]
  },
  {
   "cell_type": "code",
   "execution_count": 58,
   "metadata": {},
   "outputs": [
    {
     "name": "stdout",
     "output_type": "stream",
     "text": [
      "C:\\Users\\calvi\\OneDrive\\桌面\\課程SpeechRecogination\\課程3\\Audio課程3\n"
     ]
    }
   ],
   "source": [
    "cd Audio課程3"
   ]
  },
  {
   "cell_type": "code",
   "execution_count": 59,
   "metadata": {},
   "outputs": [
    {
     "name": "stdout",
     "output_type": "stream",
     "text": [
      " 磁碟區 C 中的磁碟是 OS\n",
      " 磁碟區序號:  68E3-32FD\n",
      "\n",
      " C:\\Users\\calvi\\OneDrive\\桌面\\課程SpeechRecogination\\課程3\\Audio課程3 的目錄\n",
      "\n",
      "2019/09/24  上午 09:20    <DIR>          .\n",
      "2019/09/24  上午 09:20    <DIR>          ..\n",
      "2019/09/16  上午 11:45            23,712 english.mp3\n",
      "2019/09/24  上午 09:27            17,763 hello1.mp3\n",
      "2019/09/24  上午 09:27            10,080 hello2.mp3\n",
      "2019/09/24  上午 09:27            17,763 hello4.mp3\n",
      "               4 個檔案          69,318 位元組\n",
      "               2 個目錄  44,780,167,168 位元組可用\n"
     ]
    }
   ],
   "source": [
    "ls"
   ]
  },
  {
   "cell_type": "code",
   "execution_count": 60,
   "metadata": {},
   "outputs": [
    {
     "name": "stdout",
     "output_type": "stream",
     "text": [
      "C:\\Users\\calvi\\OneDrive\\桌面\\課程SpeechRecogination\\課程3\n"
     ]
    }
   ],
   "source": [
    "cd .."
   ]
  },
  {
   "cell_type": "code",
   "execution_count": 61,
   "metadata": {},
   "outputs": [
    {
     "name": "stdout",
     "output_type": "stream",
     "text": [
      " 磁碟區 C 中的磁碟是 OS\n",
      " 磁碟區序號:  68E3-32FD\n",
      "\n",
      " C:\\Users\\calvi\\OneDrive\\桌面\\課程SpeechRecogination\\課程3 的目錄\n",
      "\n",
      "2019/09/24  上午 09:57    <DIR>          .\n",
      "2019/09/24  上午 09:57    <DIR>          ..\n",
      "2019/09/24  上午 09:19    <DIR>          .ipynb_checkpoints\n",
      "2019/09/24  上午 09:20    <DIR>          Audio課程3\n",
      "2019/09/24  上午 09:43           658,638 SR03youtubefrontpage.png\n",
      "2019/09/24  上午 09:42           468,951 SR03youtubefrontpage.pptx\n",
      "2019/09/24  上午 09:57            24,037 課程 03-  Speech Recognition - Building A Simple Simple dialogue - Chatbot - 語音識別 - 建立一個簡單的 對談框 建立一個簡單的對話 Chatbox.ipynb\n",
      "               3 個檔案       1,151,626 位元組\n",
      "               4 個目錄  44,774,948,864 位元組可用\n"
     ]
    }
   ],
   "source": [
    "ls"
   ]
  },
  {
   "cell_type": "raw",
   "metadata": {},
   "source": [
    "'''\n",
    ">> ChatBot\n",
    "    >> 和 自然語言 對話\n",
    "    >> ChatBot - dialogue and Natural Language Dialogue\n",
    "      >> Speech to Text \n",
    "\n",
    "'''"
   ]
  },
  {
   "cell_type": "raw",
   "metadata": {},
   "source": [
    "'''\n",
    "\n",
    ">> 自然語言 對話\n",
    "    >> Natural language dialogue\n",
    "    \n",
    "    >> 聊天機器人 chatbot 正在蓬勃發展\n",
    "        >> 大多數用戶都會想到\n",
    "        >> 像Siri或 Alexia服務 - 這樣的聊天機器人\n",
    "        >> 他們幾乎可以理解所有內容並回答各種各樣的問題\n",
    "            >> 但實際上\n",
    "                >> 聊天機器人存在不同的會話模式\n",
    "    \n",
    "'''"
   ]
  },
  {
   "cell_type": "raw",
   "metadata": {},
   "source": [
    "'''\n",
    "\n",
    ">> 引導對話 - Guided dialogue\n",
    "    >> 技術發展而言，這也更為直接\n",
    "    >> 開發人員列出了他必須實現的不同場景，並可以輕鬆構建回答每個場景的路徑\n",
    "    >> 只要機器人自己處理問題的可能答案列表\n",
    "    >> 就對話用戶體驗而言，沒有更多的待處理方法\n",
    "    >> 機器人理解一切並知道如何處理答案\n",
    "\n",
    ">> 當機器人允許用戶自由回答時 - Answer Freely\n",
    "    >> 複雜性有點增加\n",
    "    >> 在這種情況下，開發人員需要實現不同的機制\n",
    "        >> 以確保機器人能夠真正理解和使用用戶所說的內容\n",
    "\n",
    "'''"
   ]
  },
  {
   "cell_type": "markdown",
   "metadata": {},
   "source": [
    "<img src=\"https://miro.medium.com/max/1453/0*H298o7-d4vbOWYyi.png\" width=\"50%\"> "
   ]
  },
  {
   "cell_type": "raw",
   "metadata": {},
   "source": [
    "'''\n",
    "\n",
    ">> 自然語言對話\n",
    "    >> Natural language dialogue\n",
    "    >> 大家都知道 Siri\n",
    "    >> 可以向Siri詢問幾乎任何東西\n",
    "    >> 它會回答一些問題\n",
    "    >> 但最重要的是\n",
    "    >> 可以用自己的談話方式提出任何問題\n",
    "        >> 這是因為這樣的機器人已經過訓練，可以用不同的方式理解問題\n",
    "\n",
    "\n",
    ">> 自然語言識別，這要歸功於深度學習\n",
    "\n",
    "'''"
   ]
  },
  {
   "cell_type": "markdown",
   "metadata": {},
   "source": [
    "<img src=\"https://www.mathworks.com/help/examples/audio_wavelet/win64/xxSpeakerID01.png\" width=\"75%\"> "
   ]
  },
  {
   "cell_type": "raw",
   "metadata": {},
   "source": [
    "'''\n",
    "\n",
    ">> 什麼是自然語言處理\n",
    "    >> Natural language processing\n",
    "    \n",
    "    >> 自然語言處理\n",
    "        >> 有助於 計算機理解人類語言\n",
    "\n",
    "'''"
   ]
  },
  {
   "cell_type": "markdown",
   "metadata": {},
   "source": [
    "<img src=\"https://miro.medium.com/max/960/1*z_EFTnhzxA3FJROcjOqNXg.png\" width=\"75%\"> "
   ]
  },
  {
   "cell_type": "raw",
   "metadata": {},
   "source": [
    "'''\n",
    "\n",
    ">> 自然語言對話中c使用引導式對話\n",
    "    >> Guided dialogue within a natural language conversation\n",
    "    \n",
    "'''"
   ]
  },
  {
   "cell_type": "markdown",
   "metadata": {},
   "source": [
    "<img src=\"https://miro.medium.com/max/1750/0*N44qLWBRrVYNETrl.png\" width=\"50%\"> "
   ]
  },
  {
   "cell_type": "raw",
   "metadata": {},
   "source": [
    "'''\n",
    "\n",
    ">> 語音識別 流程\n",
    "    >> speech recognition pipeline \n",
    "\n",
    "'''"
   ]
  },
  {
   "cell_type": "markdown",
   "metadata": {},
   "source": [
    "<img src=\"https://i1.wp.com/www.simplifiedpython.net/wp-content/uploads/2018/07/speech-recognition-python-1.png?w=682&ssl=1\" width=\"50%\"> "
   ]
  },
  {
   "cell_type": "markdown",
   "metadata": {},
   "source": [
    "<img src=\"https://miro.medium.com/max/2000/0*SukgVDWR-kBWrPqf.\" width=\"100%\"> "
   ]
  },
  {
   "cell_type": "raw",
   "metadata": {},
   "source": [
    "'''\n",
    "\n",
    ">> 頻譜圖 - spectrogram\n",
    "    >> 每20毫秒的音頻塊上重複這個過程\n",
    "    >> 得到一個頻譜圖 \n",
    "    >> 每個列從左到右是一個20ms的塊\n",
    "    \n",
    "\n",
    "    >> 音頻數據中 - 看到音符和其他音高模式\n",
    "        >>  musical notes and other pitch patterns in audio data\n",
    "\n",
    "'''"
   ]
  },
  {
   "cell_type": "markdown",
   "metadata": {},
   "source": [
    "<img src=\"https://miro.medium.com/max/2421/1*bhd7B-s-Qnds3HGV6LOo8A.png\" width=\"75%\"> "
   ]
  },
  {
   "cell_type": "markdown",
   "metadata": {},
   "source": [
    "# 程式範例"
   ]
  },
  {
   "cell_type": "raw",
   "metadata": {},
   "source": [
    "'''\n",
    "\n",
    ">> 語音識別  函式庫- SpeechRecognition Liberay\n",
    "    >> pip install SpeechRecognition\n",
    "    >> https://github.com/Uberi/speech_recognition#readme\n",
    "    \n",
    "'''"
   ]
  },
  {
   "cell_type": "code",
   "execution_count": 7,
   "metadata": {},
   "outputs": [
    {
     "data": {
      "text/plain": [
       "'3.8.1'"
      ]
     },
     "execution_count": 7,
     "metadata": {},
     "output_type": "execute_result"
    }
   ],
   "source": [
    "import speech_recognition\n",
    "speech_recognition.__version__"
   ]
  },
  {
   "cell_type": "code",
   "execution_count": 4,
   "metadata": {},
   "outputs": [],
   "source": [
    "import speech_recognition\n",
    "r = speech_recognition.Recognizer()"
   ]
  },
  {
   "cell_type": "code",
   "execution_count": 62,
   "metadata": {},
   "outputs": [],
   "source": [
    "with speech_recognition.Microphone() as source:\n",
    "    r.adjust_for_ambient_noise(source)\n",
    "    audio = r.listen(source)"
   ]
  },
  {
   "cell_type": "code",
   "execution_count": 63,
   "metadata": {},
   "outputs": [
    {
     "data": {
      "text/plain": [
       "'你我互動學習的朋友們大家好'"
      ]
     },
     "execution_count": 63,
     "metadata": {},
     "output_type": "execute_result"
    }
   ],
   "source": [
    "r.recognize_google(audio, language='zh-TW')"
   ]
  },
  {
   "cell_type": "code",
   "execution_count": null,
   "metadata": {},
   "outputs": [],
   "source": []
  },
  {
   "cell_type": "markdown",
   "metadata": {},
   "source": [
    "# 程式範例"
   ]
  },
  {
   "cell_type": "raw",
   "metadata": {},
   "source": [
    "'''\n",
    "\n",
    ">> 導入 相關 函式庫 \n",
    "   >> import relative Lib\n",
    "   \n",
    "'''"
   ]
  },
  {
   "cell_type": "code",
   "execution_count": 8,
   "metadata": {},
   "outputs": [
    {
     "name": "stdout",
     "output_type": "stream",
     "text": [
      "Populating the interactive namespace from numpy and matplotlib\n"
     ]
    },
    {
     "name": "stderr",
     "output_type": "stream",
     "text": [
      "C:\\Users\\calvi\\Anaconda36\\lib\\site-packages\\IPython\\core\\magics\\pylab.py:160: UserWarning: pylab import has clobbered these variables: ['source']\n",
      "`%matplotlib` prevents importing * from pylab and numpy\n",
      "  \"\\n`%matplotlib` prevents importing * from pylab and numpy\"\n"
     ]
    }
   ],
   "source": [
    "%pylab inline"
   ]
  },
  {
   "cell_type": "code",
   "execution_count": 9,
   "metadata": {},
   "outputs": [],
   "source": [
    "%matplotlib inline"
   ]
  },
  {
   "cell_type": "code",
   "execution_count": 10,
   "metadata": {},
   "outputs": [
    {
     "name": "stdout",
     "output_type": "stream",
     "text": [
      "3.8.1\n"
     ]
    }
   ],
   "source": [
    "import speech_recognition as sr\n",
    "print(sr.__version__)"
   ]
  },
  {
   "cell_type": "code",
   "execution_count": 11,
   "metadata": {},
   "outputs": [],
   "source": [
    "r = sr.Recognizer()"
   ]
  },
  {
   "cell_type": "raw",
   "metadata": {},
   "source": [
    "'''\n",
    "\n",
    ">> 語音翻譯\n",
    "    >> Speech to Text \n",
    "\n",
    "'''"
   ]
  },
  {
   "cell_type": "markdown",
   "metadata": {},
   "source": [
    "<img src=\"https://i1.wp.com/www.simplifiedpython.net/wp-content/uploads/2018/07/speech-recognition-python-1.png?w=682&ssl=1\" width=\"50%\"> "
   ]
  },
  {
   "cell_type": "code",
   "execution_count": null,
   "metadata": {},
   "outputs": [],
   "source": []
  },
  {
   "cell_type": "code",
   "execution_count": 12,
   "metadata": {},
   "outputs": [],
   "source": [
    "import speech_recognition\n",
    "r = speech_recognition.Recognizer()"
   ]
  },
  {
   "cell_type": "code",
   "execution_count": 13,
   "metadata": {},
   "outputs": [],
   "source": [
    "with speech_recognition.Microphone() as source:\n",
    "    r.adjust_for_ambient_noise(source)\n",
    "    audio = r.listen(source)"
   ]
  },
  {
   "cell_type": "code",
   "execution_count": 14,
   "metadata": {},
   "outputs": [
    {
     "data": {
      "text/plain": [
       "'你我互動學習的朋友們大家早'"
      ]
     },
     "execution_count": 14,
     "metadata": {},
     "output_type": "execute_result"
    }
   ],
   "source": [
    "r.recognize_google(audio, language='zh-TW')"
   ]
  },
  {
   "cell_type": "code",
   "execution_count": 64,
   "metadata": {},
   "outputs": [],
   "source": [
    "with speech_recognition.Microphone() as source:\n",
    "    r.adjust_for_ambient_noise(source)\n",
    "    audio = r.listen(source)"
   ]
  },
  {
   "cell_type": "code",
   "execution_count": 65,
   "metadata": {},
   "outputs": [
    {
     "data": {
      "text/plain": [
       "'everybody good morning'"
      ]
     },
     "execution_count": 65,
     "metadata": {},
     "output_type": "execute_result"
    }
   ],
   "source": [
    "r.recognize_google(audio, language='en')"
   ]
  },
  {
   "cell_type": "code",
   "execution_count": 66,
   "metadata": {},
   "outputs": [],
   "source": [
    "with speech_recognition.Microphone() as source:\n",
    "    r.adjust_for_ambient_noise(source)\n",
    "    audio = r.listen(source)"
   ]
  },
  {
   "cell_type": "code",
   "execution_count": 67,
   "metadata": {},
   "outputs": [
    {
     "data": {
      "text/plain": [
       "'merci beaucoup'"
      ]
     },
     "execution_count": 67,
     "metadata": {},
     "output_type": "execute_result"
    }
   ],
   "source": [
    "r.recognize_google(audio, language='fr')"
   ]
  },
  {
   "cell_type": "code",
   "execution_count": null,
   "metadata": {},
   "outputs": [],
   "source": []
  },
  {
   "cell_type": "raw",
   "metadata": {},
   "source": [
    "'''\n",
    "\n",
    ">> 文本到語音文件 - 保存\n",
    "    >> Text to Voice-File - with Saving \n",
    "    \n",
    ">> 語音文件 - 播放\n",
    "    >> Voice File to Playing \n",
    "\n",
    "'''"
   ]
  },
  {
   "cell_type": "markdown",
   "metadata": {},
   "source": [
    "<img src=\"https://miro.medium.com/max/750/1*4cfke5axE_HYZ4-bXDXwtg.jpeg\" width=\"50%\"> "
   ]
  },
  {
   "cell_type": "markdown",
   "metadata": {},
   "source": [
    "<img src=\"https://cdn4.iconfinder.com/data/icons/music-sound-3/78/26-512.png\" width=\"50%\">"
   ]
  },
  {
   "cell_type": "raw",
   "metadata": {},
   "source": [
    "'''\n",
    "\n",
    ">> gtts \n",
    "    >> pip install gTTS==1.1.8\n",
    "    >> Create an mp3 file from spoken text via the Google TTS (Text-to-Speech) API\n",
    "    >> https://pypi.org/project/gTTS/\n",
    "    \n",
    ">> pygame\n",
    "    >> pip install pygame\n",
    "    >> Pygame is a Python wrapper module for the SDL multimedia library.\n",
    "        >> It contains python functions and classes \n",
    "        >> that will allow you to use SDL’s support for playing cdroms, audio and video output\n",
    "        >> and keyboard, mouse and joystick input.\n",
    "    >> https://pypi.org/project/pygame/\n",
    "\n",
    "'''"
   ]
  },
  {
   "cell_type": "code",
   "execution_count": 74,
   "metadata": {},
   "outputs": [
    {
     "name": "stdout",
     "output_type": "stream",
     "text": [
      "2.0.4\n"
     ]
    }
   ],
   "source": [
    "import gtts \n",
    "print(gtts.__version__)"
   ]
  },
  {
   "cell_type": "code",
   "execution_count": null,
   "metadata": {},
   "outputs": [],
   "source": []
  },
  {
   "cell_type": "code",
   "execution_count": 68,
   "metadata": {},
   "outputs": [],
   "source": [
    "from gtts import gTTS\n",
    "tts = gTTS(text='你我互動學習園地的朋友們大家好', lang='zh-TW')\n",
    "tts.save(\"Audio課程3\\hello1.mp3\")"
   ]
  },
  {
   "cell_type": "code",
   "execution_count": 69,
   "metadata": {},
   "outputs": [],
   "source": [
    "from gtts import gTTS\n",
    "tts = gTTS(text='Hello Everybody ! Have a Good day', lang='en')\n",
    "tts.save(\"Audio課程3\\hello2.mp3\")"
   ]
  },
  {
   "cell_type": "code",
   "execution_count": 70,
   "metadata": {},
   "outputs": [],
   "source": [
    "from pygame import mixer\n",
    "mixer.init()\n",
    "mixer.music.load('Audio課程3\\hello1.mp3')\n",
    "mixer.music.play()"
   ]
  },
  {
   "cell_type": "code",
   "execution_count": 71,
   "metadata": {},
   "outputs": [],
   "source": [
    "from pygame import mixer\n",
    "mixer.init()\n",
    "mixer.music.load('Audio課程3\\hello2.mp3')\n",
    "mixer.music.play()"
   ]
  },
  {
   "cell_type": "code",
   "execution_count": 72,
   "metadata": {},
   "outputs": [],
   "source": [
    "from pygame import mixer\n",
    "mixer.init()\n",
    "mixer.music.load('Audio課程3\\english.mp3')\n",
    "mixer.music.play()"
   ]
  },
  {
   "cell_type": "code",
   "execution_count": null,
   "metadata": {},
   "outputs": [],
   "source": []
  },
  {
   "cell_type": "code",
   "execution_count": 75,
   "metadata": {},
   "outputs": [],
   "source": [
    "from gtts import gTTS\n",
    "tts = gTTS(text='你我互動學習園地的朋友們大家好', lang='zh-TW')\n",
    "tts.save(\"Audio課程3\\hello4.mp3\")"
   ]
  },
  {
   "cell_type": "code",
   "execution_count": 76,
   "metadata": {},
   "outputs": [],
   "source": [
    "from pygame import mixer\n",
    "mixer.init()\n",
    "mixer.music.load('Audio課程3\\hello4.mp3')\n",
    "mixer.music.play()"
   ]
  },
  {
   "cell_type": "code",
   "execution_count": 77,
   "metadata": {},
   "outputs": [],
   "source": [
    "import tempfile\n",
    "def speak(sentence):\n",
    "    with tempfile.NamedTemporaryFile(delete=True) as fp:\n",
    "        tts = gTTS(text=sentence, lang='zh-TW')\n",
    "        tts.save(\"{}.mp3\".format(fp.name))\n",
    "        mixer.music.load('{}.mp3'.format(fp.name))\n",
    "        mixer.music.play()"
   ]
  },
  {
   "cell_type": "code",
   "execution_count": 78,
   "metadata": {},
   "outputs": [],
   "source": [
    "speak('你我互動學習園地的朋友們大家好')"
   ]
  },
  {
   "cell_type": "code",
   "execution_count": 79,
   "metadata": {},
   "outputs": [],
   "source": [
    "import tempfile\n",
    "from gtts import gTTS\n",
    "from pygame import mixer\n",
    "mixer.init()\n",
    "\n",
    "def speak(sentence):\n",
    "    with tempfile.NamedTemporaryFile(delete=True) as fp:\n",
    "        tts = gTTS(text=sentence, lang='zh-tw')\n",
    "        tts.save(\"{}.mp3\".format(fp.name))\n",
    "        mixer.music.load('{}.mp3'.format(fp.name))\n",
    "        mixer.music.play()\n",
    "        \n",
    "speak('你我互動學習園地的朋友們大家好')"
   ]
  },
  {
   "cell_type": "code",
   "execution_count": 80,
   "metadata": {},
   "outputs": [],
   "source": [
    "import tempfile\n",
    "from gtts import gTTS\n",
    "from pygame import mixer\n",
    "mixer.init()\n",
    "\n",
    "def speak(sentence):\n",
    "    with tempfile.NamedTemporaryFile(delete=True) as fp:\n",
    "        tts = gTTS(text=sentence, lang='en')\n",
    "        tts.save(\"{}.mp3\".format(fp.name))\n",
    "        mixer.music.load('{}.mp3'.format(fp.name))\n",
    "        mixer.music.play()\n",
    "        \n",
    "speak('Hello Everybody ! Have a Good day')"
   ]
  },
  {
   "cell_type": "code",
   "execution_count": 81,
   "metadata": {},
   "outputs": [],
   "source": [
    "import tempfile\n",
    "from gtts import gTTS\n",
    "from pygame import mixer\n",
    "mixer.init()\n",
    "\n",
    "def speak(sentence):\n",
    "    with tempfile.NamedTemporaryFile(delete=True) as fp:\n",
    "        tts = gTTS(text=sentence, lang='fr')\n",
    "        tts.save(\"{}.mp3\".format(fp.name))\n",
    "        mixer.music.load('{}.mp3'.format(fp.name))\n",
    "        mixer.music.play()\n",
    "        \n",
    "speak('merci beaucoup')"
   ]
  },
  {
   "cell_type": "code",
   "execution_count": null,
   "metadata": {},
   "outputs": [],
   "source": []
  },
  {
   "cell_type": "raw",
   "metadata": {},
   "source": [
    "'''\n",
    "\n",
    ">> 建立 簡單的對話 \n",
    "    >> Simple dialogue - Chatbot\n",
    "\n",
    "'''"
   ]
  },
  {
   "cell_type": "markdown",
   "metadata": {},
   "source": [
    "<img src=\"https://miro.medium.com/max/963/0*5tw5fshRQOT4uLAk.png\" width=\"50%\">"
   ]
  },
  {
   "cell_type": "code",
   "execution_count": 82,
   "metadata": {},
   "outputs": [],
   "source": [
    "import speech_recognition\n",
    "import tempfile\n",
    "from gtts import gTTS\n",
    "from pygame import mixer\n",
    "mixer.init()\n"
   ]
  },
  {
   "cell_type": "code",
   "execution_count": 83,
   "metadata": {},
   "outputs": [],
   "source": [
    "def listenTo():\n",
    "    r = speech_recognition.Recognizer()\n",
    "\n",
    "    with speech_recognition.Microphone() as source:\n",
    "        r.adjust_for_ambient_noise(source)\n",
    "        audio = r.listen(source)\n",
    "\n",
    "    return r.recognize_google(audio, language='zh-TW')"
   ]
  },
  {
   "cell_type": "code",
   "execution_count": 84,
   "metadata": {},
   "outputs": [],
   "source": [
    "def speak(sentence):\n",
    "    with tempfile.NamedTemporaryFile(delete=True) as fp:\n",
    "        tts = gTTS(text=sentence, lang='zh-tw')\n",
    "        tts.save(\"{}.mp3\".format(fp.name))\n",
    "        mixer.music.load('{}.mp3'.format(fp.name))\n",
    "        mixer.music.play()\n",
    "        \n",
    "speak('大家好')"
   ]
  },
  {
   "cell_type": "code",
   "execution_count": null,
   "metadata": {},
   "outputs": [],
   "source": []
  },
  {
   "cell_type": "code",
   "execution_count": null,
   "metadata": {},
   "outputs": [],
   "source": [
    "'''\n",
    "\n",
    ">> 語音 與 文字交談\n",
    "    >> Speech to Speak with Text \n",
    "\n",
    "'''"
   ]
  },
  {
   "cell_type": "code",
   "execution_count": 87,
   "metadata": {},
   "outputs": [],
   "source": [
    "import speech_recognition\n",
    "import tempfile\n",
    "from gtts import gTTS\n",
    "from pygame import mixer\n",
    "mixer.init()\n",
    "\n",
    "def speak(sentence):\n",
    "    with tempfile.NamedTemporaryFile(delete=True) as fp:\n",
    "        tts = gTTS(text=sentence, lang='zh-tw')\n",
    "        tts.save(\"{}.mp3\".format(fp.name))\n",
    "        mixer.music.load('{}.mp3'.format(fp.name))\n",
    "        mixer.music.play()    "
   ]
  },
  {
   "cell_type": "code",
   "execution_count": 86,
   "metadata": {},
   "outputs": [],
   "source": [
    "speak(listenTo())"
   ]
  },
  {
   "cell_type": "code",
   "execution_count": null,
   "metadata": {},
   "outputs": [],
   "source": []
  },
  {
   "cell_type": "code",
   "execution_count": null,
   "metadata": {},
   "outputs": [],
   "source": [
    "'''\n",
    "\n",
    ">> Simple Chatbox - Question and Answer \n",
    "\n",
    "'''"
   ]
  },
  {
   "cell_type": "code",
   "execution_count": 88,
   "metadata": {},
   "outputs": [],
   "source": [
    "inputoutput = {\n",
    "  '你今天好嗎': '我很好',\n",
    "  '你好美'    : '你也很帥',\n",
    "  '誰是世界上最帥的人' : '當然是你'\n",
    "}"
   ]
  },
  {
   "cell_type": "code",
   "execution_count": 89,
   "metadata": {},
   "outputs": [],
   "source": [
    "speak(inputoutput.get(listenTo(), '聽不太清楚，請再說一變，謝謝'))"
   ]
  },
  {
   "cell_type": "code",
   "execution_count": 90,
   "metadata": {},
   "outputs": [],
   "source": [
    "inputoutput = {\n",
    "  '左邊是什麼' :  '1 是左邊',\n",
    "  '右邊是什麼' :  '2 是右邊',\n",
    "  '上面是什麼' :  '3 是上面',\n",
    "  '下面是什麼' :  '4 是下面',\n",
    "  '中間是什麼' :  '5 是中間', \n",
    "  '男生是什麼' :  '6 是男生',\n",
    "  '女生是什麼' :  '7 是女生',\n",
    "  '大家是什麼' :  '8 是你我互動學習園地的朋友們大家好'\n",
    "}"
   ]
  },
  {
   "cell_type": "code",
   "execution_count": 91,
   "metadata": {},
   "outputs": [],
   "source": [
    "speak(inputoutput.get(listenTo(), '聽不太清楚，請再說一變，謝謝'))"
   ]
  },
  {
   "cell_type": "code",
   "execution_count": null,
   "metadata": {},
   "outputs": [],
   "source": []
  },
  {
   "cell_type": "code",
   "execution_count": null,
   "metadata": {},
   "outputs": [],
   "source": []
  }
 ],
 "metadata": {
  "anaconda-cloud": {},
  "kernelspec": {
   "display_name": "Python 3",
   "language": "python",
   "name": "python3"
  },
  "language_info": {
   "codemirror_mode": {
    "name": "ipython",
    "version": 3
   },
   "file_extension": ".py",
   "mimetype": "text/x-python",
   "name": "python",
   "nbconvert_exporter": "python",
   "pygments_lexer": "ipython3",
   "version": "3.6.4"
  }
 },
 "nbformat": 4,
 "nbformat_minor": 1
}
