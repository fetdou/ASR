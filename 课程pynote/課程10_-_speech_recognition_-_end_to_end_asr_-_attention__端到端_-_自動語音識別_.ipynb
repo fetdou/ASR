{
 "cells": [
  {
   "cell_type": "markdown",
   "metadata": {},
   "source": [
    "<h1 align='center' style='color:purple'> Speech Recognition 語音識別 - 課程 10 - Speech Recognition - End To End ASR - Attention  端到端 - 自動語音識別"
   ]
  },
  {
   "cell_type": "raw",
   "metadata": {},
   "source": [
    "'''\n",
    "\n",
    "人工智慧-深度學習\n",
    "\n",
    "A.I Tutorials \n",
    "Deep Learning 教程 \n",
    "\n",
    "''' \n",
    "\n",
    "    04 - 課程    - Speech Recognition 語音識別 \n",
    "\n",
    "         課程 10 - Speech Recognition \n",
    "                            - 課程 10 - Speech Recognition - End To End ASR - Attention  端到端 - 自動語音識別 \n",
    "                                \n",
    "         \n",
    "         課程 10 - 語音識別 - 音頻數據分類\n",
    "                                             \n",
    "                   程式範例 - 法語 France 音頻 語音識別 - 分類                   \n",
    "                            \n",
    "                            \n",
    "'''  教程簡介 '''\n",
    "'''  語音識別 '''\n",
    "\n",
    "''' "
   ]
  },
  {
   "cell_type": "raw",
   "metadata": {},
   "source": [
    "'''\n",
    "\n",
    ">> 資料準備\n",
    "\n",
    "    >> 你我互動學習園地\n",
    "        >> https://interactiveuandmetutorials.weebly.com/\n",
    "    \n",
    "    >> Python 程式語言 設計\n",
    "        >> https://pythonprogrammingtutorials.weebly.com/\n",
    "        \n",
    "    >> Datasets - 法語 France 音頻 數據集 \n",
    "        >> Sounds \n",
    "        >>  12個 - 法語單詞組成的 數據庫\n",
    "        >>  法語單詞- 由不同的發音者 - 發音 - 25次\n",
    "        \n",
    "        >> https://www.dropbox.com/s/c12fmsctfwwov5d/sounds.zip\n",
    "    \n",
    "    \n",
    "    \n",
    "    \n",
    ">> 檔案路徑/\n",
    "    ├── 課程 10 - Speech Recognition - End To End ASR - Attention  端到端 - 自動語音識別 .ipynb\n",
    "    ├── datasets/\n",
    "    ├        ├── wavToTag.txt \n",
    "    ├        ├── \n",
    "    ├        ├── \n",
    "    ├        ├── \n",
    "    ├        \n",
    "    ├── Sound/ 244 . wave檔案 /  248 個檔案 - 19.8 MB\n",
    "    ├        ├── 0  .wav\n",
    "    ├        ├── 1  .wav\n",
    "    ├        ├── ...\n",
    "    ├        ├── 244.wav \n",
    "    ├        \n",
    "    ├── dtw.py\n",
    "   \n",
    "'''"
   ]
  },
  {
   "cell_type": "code",
   "execution_count": null,
   "metadata": {},
   "outputs": [],
   "source": []
  },
  {
   "cell_type": "code",
   "execution_count": null,
   "metadata": {},
   "outputs": [],
   "source": []
  },
  {
   "cell_type": "markdown",
   "metadata": {},
   "source": [
    "<img src=\"https://miro.medium.com/max/930/1*aB6GSkNqWQcCj35AFIoTkA.jpeg\" width=\"100%\"> "
   ]
  },
  {
   "cell_type": "raw",
   "metadata": {},
   "source": [
    "'''\n",
    "\n",
    ">> 端到端自動語音識別 - End To End Automatic Speech Recognition - Attention \n",
    "    >> 傳統的ASR系統 with Attention的 - Encoder-Decoder 結構的系統\n",
    "    \n",
    "'''"
   ]
  },
  {
   "cell_type": "raw",
   "metadata": {},
   "source": [
    "'''\n",
    "\n",
    ">> 語音識別 的方法 如圖\n",
    "    >> The approach used in this example for speaker identification is shown in the diagram\n",
    "\n",
    "'''"
   ]
  },
  {
   "cell_type": "markdown",
   "metadata": {},
   "source": [
    "<img src=\"https://www.mathworks.com/help/examples/audio_wavelet/win64/xxSpeakerID01.png\" width=\"75%\"> "
   ]
  },
  {
   "cell_type": "raw",
   "metadata": {},
   "source": [
    "'''\n",
    "\n",
    ">> 把句子送入- RNN\n",
    "    >> 一次一個字\n",
    "    >> 處理完最後一個單詞後的\n",
    "    >> 最終結果將是表示- 整個句子的值\n",
    "\n",
    "'''"
   ]
  },
  {
   "cell_type": "markdown",
   "metadata": {},
   "source": [
    "<img src=\"https://miro.medium.com/max/1096/1*hbpW6FRw7mrc607fwM9rKw.gif\" width=\"100%\">"
   ]
  },
  {
   "cell_type": "markdown",
   "metadata": {},
   "source": [
    "<img src=\"https://miro.medium.com/max/1931/1*fGzLsEwnEwFo2Wo9kzIvBw.png\" width=\"100%\">"
   ]
  },
  {
   "cell_type": "markdown",
   "metadata": {},
   "source": [
    "<img src=\"https://www.microsoft.com/en-us/translator/blog/wp-content/uploads/sites/13/2018/09/SpeechTransStill.png\" width=\"100%\"> "
   ]
  },
  {
   "cell_type": "raw",
   "metadata": {},
   "source": [
    "'''\n",
    "\n",
    ">> 自動語音識別-自動語音識別（ASR）的研究目的是開發一種自動轉錄自然語音的設備/算法\n",
    "    >> 基本系統\n",
    "        >> 聲音處理器 acoustic processor \n",
    "        >> 和 linguistic decoder 語言解碼器 組成\n",
    "\n",
    "\n",
    "'''"
   ]
  },
  {
   "cell_type": "raw",
   "metadata": {},
   "source": [
    "'''\n",
    "\n",
    ">> 傳統的ASR系統中\n",
    ">> ASR 自動語音識別（ASR） Pipeline - 如下所示\n",
    "    >> 一個源說話者正在說出一系列單詞\n",
    "    >> 單詞會通過一個通道 - 一個嘈雜的通道）傳播\n",
    "    >> 語音信號 轉錄為 - 目標上的 一系列單詞\n",
    "    >> 我們 不關心單詞/句子的語義\n",
    "    >> 我們 只想抄錄 - 語音信號中的內容\n",
    "    \n",
    "'''"
   ]
  },
  {
   "cell_type": "markdown",
   "metadata": {},
   "source": [
    "<img src=\"https://www.mathworks.com/help/examples/audio_wavelet/win64/xxSpeakerID01.png\" width=\"75%\"> "
   ]
  },
  {
   "cell_type": "markdown",
   "metadata": {},
   "source": [
    "<img src=\"https://tr3.cbsistatic.com/hub/i/2016/09/14/da06b8c6-7fa0-427b-9b80-12bb177620a1/05-resized.jpg\" width=\"100%\"> "
   ]
  },
  {
   "cell_type": "raw",
   "metadata": {},
   "source": [
    "'''\n",
    "\n",
    ">> 傳統上\n",
    "    >> 嘈雜 Moise 的頻道模型框架中\n",
    "    >> 想知道在給定一些聲音輸入- O的情況下\n",
    "    >> 語言L中所有句子中- 最有可能的句子是什麼？\n",
    "    \n",
    "    >> 語音識別為嘈雜的 - 信道模型\n",
    "     >> Speech recognition as a noisy channel model\n",
    "'''"
   ]
  },
  {
   "cell_type": "markdown",
   "metadata": {},
   "source": [
    "<img src=\"https://miro.medium.com/max/5903/1*fHkyaIaiJveQM8h8n7qJbA.png\" width=\"75%\"> "
   ]
  },
  {
   "cell_type": "raw",
   "metadata": {},
   "source": [
    "'''\n",
    "\n",
    "    >> 語音信號\n",
    "    >> 是一維信號 1-D signal\n",
    "        >> 通常以8KHz或16KHz採樣\n",
    "            >> 每個採樣通常為8位或16位\n",
    "            \n",
    "        >> 一維語音信號 1-D signal\n",
    "'''            "
   ]
  },
  {
   "cell_type": "markdown",
   "metadata": {},
   "source": [
    "<img src=\"https://miro.medium.com/max/6264/1*X5lijqgfTsHu5KiL0rOu8Q.png\" width=\"75%\"> "
   ]
  },
  {
   "cell_type": "raw",
   "metadata": {},
   "source": [
    "'''\n",
    "\n",
    ">> 幾個原因\n",
    ">> 不能直接使用 一維信號來訓練任何模型\n",
    "    - 語音信號是準平穩的\n",
    "    - 說話者之間和說話者內部存在差異\n",
    "        - 由不同說話者說出的同一個單詞會給出不同的信號\n",
    "        - 而由同一說話者\n",
    "            - 說出的同一個單詞在不同時刻也會給出不同的信號\n",
    "    - 說話速度，音調和音量的變化可能會 影響模型\n",
    "    \n",
    ">> 通常從 一維語音信號 中提取一些特\n",
    "\n",
    "'''"
   ]
  },
  {
   "cell_type": "raw",
   "metadata": {},
   "source": [
    "'''\n",
    "\n",
    ">> 一維語音信號 中提取一些特徵\n",
    "    >> 語音信號中提取的最簡單的功能是\n",
    "        >> 聲譜圖 Spectrogram \n",
    "        >> 我們通常提取短時 傅立葉頻譜ier Fourier spectrum\n",
    "            >> （持續時間為 20ms）\n",
    "            >> 對於信號的每 20ms窗口，會得到一些特徵 features\n",
    "\n",
    "'''"
   ]
  },
  {
   "cell_type": "markdown",
   "metadata": {},
   "source": [
    "<img src=\"https://miro.medium.com/max/5263/1*_oLI_O-qJzXRG6BkwIN_eQ.png\" width=\"100%\"> "
   ]
  },
  {
   "cell_type": "raw",
   "metadata": {},
   "source": [
    "'''\n",
    "\n",
    ">> 傅立葉變換 - Short-time Fourier transform\n",
    "\n",
    "'''"
   ]
  },
  {
   "cell_type": "code",
   "execution_count": null,
   "metadata": {},
   "outputs": [],
   "source": []
  },
  {
   "cell_type": "markdown",
   "metadata": {},
   "source": [
    "<img src=\"https://miro.medium.com/max/5296/1*n6jJQ_jPJJv6eh2KH0ft0A.png\" width=\"100%\"> "
   ]
  },
  {
   "cell_type": "raw",
   "metadata": {},
   "source": [
    "'''\n",
    "\n",
    ">> 語音信號的頻譜圖 - Spectrogram of a speech signal\n",
    "\n",
    "'''"
   ]
  },
  {
   "cell_type": "code",
   "execution_count": null,
   "metadata": {},
   "outputs": [],
   "source": []
  },
  {
   "cell_type": "raw",
   "metadata": {},
   "source": [
    "'''\n",
    "\n",
    ">> 概率  - Probabilistic\n",
    "\n",
    "'''"
   ]
  },
  {
   "cell_type": "raw",
   "metadata": {},
   "source": [
    "'''\n",
    "\n",
    ">> 語言L中\n",
    "    >> 獲得那些單詞序列W\n",
    "    >> 在給定聲音輸入O的情況下\n",
    "    >> 最大化了以下條件\n",
    "\n",
    "'''"
   ]
  },
  {
   "cell_type": "markdown",
   "metadata": {},
   "source": [
    "<img src=\"https://miro.medium.com/max/406/0*Yr6B0Gah7TYGIID7.png\" width=\"50%\"> "
   ]
  },
  {
   "cell_type": "raw",
   "metadata": {},
   "source": [
    "'''\n",
    "\n",
    ">> Bayes rule 貝式 規則將其重寫為 \n",
    "\n",
    "'''"
   ]
  },
  {
   "cell_type": "markdown",
   "metadata": {},
   "source": [
    "<img src=\"https://miro.medium.com/max/531/0*_Ye1xHrob-O1jGda.png\" width=\"50%\"> "
   ]
  },
  {
   "cell_type": "raw",
   "metadata": {},
   "source": [
    "'''\n",
    "\n",
    ">> 每個候選句子W的分母都相同\n",
    "    >> 因此對於argmax - 可以忽略它\n",
    "\n",
    "'''"
   ]
  },
  {
   "cell_type": "markdown",
   "metadata": {},
   "source": [
    "<img src=\"https://miro.medium.com/max/521/0*WzDT1gdiW29B5udd.png\" width=\"50%\"> "
   ]
  },
  {
   "cell_type": "code",
   "execution_count": null,
   "metadata": {},
   "outputs": [],
   "source": []
  },
  {
   "cell_type": "raw",
   "metadata": {},
   "source": [
    "'''\n",
    "\n",
    ">> 傳統 ASR 管道 - ASR 自動語音識別（ASR） Pipeline - 如下所示\n",
    "\n",
    "'''"
   ]
  },
  {
   "cell_type": "markdown",
   "metadata": {},
   "source": [
    "<img src=\"https://miro.medium.com/max/5119/1*9DKxwQGVWZ3BVsmdJ896SQ.png\" width=\"75%\"> "
   ]
  },
  {
   "cell_type": "code",
   "execution_count": null,
   "metadata": {},
   "outputs": [],
   "source": []
  },
  {
   "cell_type": "raw",
   "metadata": {},
   "source": [
    "'''\n",
    "\n",
    ">> 言語問題 - Problem of Speech\n",
    "\n",
    "'''"
   ]
  },
  {
   "cell_type": "code",
   "execution_count": null,
   "metadata": {},
   "outputs": [],
   "source": []
  },
  {
   "cell_type": "markdown",
   "metadata": {},
   "source": [
    "<img src=\"https://www.microsoft.com/en-us/translator/blog/wp-content/uploads/sites/13/2018/09/SpeechTransStill.png\" width=\"100%\"> "
   ]
  },
  {
   "cell_type": "code",
   "execution_count": null,
   "metadata": {},
   "outputs": [],
   "source": []
  },
  {
   "cell_type": "raw",
   "metadata": {},
   "source": [
    "'''\n",
    "\n",
    ">> 言語問題 - Problem of Speech\n",
    "\n",
    "    >> 編碼器 Encoder \n",
    "        >> Encoder嘗試將 整個輸入 序列匯總為 固定維數ht\n",
    "            >> 編碼器本身是一個 遞歸神經網絡（RNN / LSTM / BLSTM / GRU）\n",
    "    >> 編碼器-解碼器 Encoder-Decoder framework\n",
    "            >> Decoder()\n",
    "                >> 是解碼器 LSTM正在實現以 更新其 隱藏表示的某些功能\n",
    "\n",
    "'''"
   ]
  },
  {
   "cell_type": "markdown",
   "metadata": {},
   "source": [
    "<img src=\"https://miro.medium.com/max/3709/1*xSuZpPeJAImyg2ec3bKRyg.png\" width=\"75%\"> "
   ]
  },
  {
   "cell_type": "raw",
   "metadata": {},
   "source": [
    "'''\n",
    "\n",
    ">> 模型的 Frame 級輸出 - The frame-level output from a model\n",
    "\n",
    "'''"
   ]
  },
  {
   "cell_type": "markdown",
   "metadata": {},
   "source": [
    "<img src=\"https://miro.medium.com/max/750/1*gXzOUg-f7MqA6MuJJTDRaw.gif\" width=\"75%\"> "
   ]
  },
  {
   "cell_type": "raw",
   "metadata": {},
   "source": [
    "'''\n",
    "\n",
    ">> CTC from distill.pub - 蒸餾\n",
    ">> LSTM 編碼器中\n",
    "    >> 目標向量\n",
    "        >> 每個維 對應於該時間步中 出現字符的 概率\n",
    "\n",
    "'''"
   ]
  },
  {
   "cell_type": "markdown",
   "metadata": {},
   "source": [
    "<img src=\"https://miro.medium.com/max/5685/1*os0ZPssY8CQCg9Rhnpqk8Q.png\" width=\"100%\"> "
   ]
  },
  {
   "cell_type": "raw",
   "metadata": {},
   "source": [
    "'''\n",
    "\n",
    ">> 編碼器輸出 - CTC - Connectionist Temporal Classification \n",
    "    >> 連接主義者的 時間分類\n",
    "\n",
    ">> 計算CTC可能性是 計算每個可能的標籤序列的可能性並將它們相加\n",
    "    >> 如果我們正在訓練發聲 ' Hello '\n",
    "    >> 計算映射到 ' Hello ' 的每個標籤序列的單個可能性\n",
    "    >> 並將其求和, 這是我們要最大化的參數\n",
    "\n",
    "'''"
   ]
  },
  {
   "cell_type": "markdown",
   "metadata": {},
   "source": [
    "<img src=\"https://miro.medium.com/max/5883/1*lYAu_4dbQ8r62FXbYE18Mw.png\" width=\"75%\"> "
   ]
  },
  {
   "cell_type": "raw",
   "metadata": {},
   "source": [
    "'''\n",
    "\n",
    ">> 更新網絡參數以最大化正確標籤序列的 可能性\n",
    "\n",
    ">>  CTC- 反向傳播\n",
    "\n",
    "'''"
   ]
  },
  {
   "cell_type": "markdown",
   "metadata": {},
   "source": [
    "<img src=\"https://miro.medium.com/max/1249/0*eGKMIHyXMqVWi2w5.png\" width=\"75%\"> "
   ]
  },
  {
   "cell_type": "markdown",
   "metadata": {},
   "source": [
    "<img src=\"https://miro.medium.com/max/5534/1*dlkTd0EL_6Drn26Syi6TPA.png\" width=\"75%\"> "
   ]
  },
  {
   "cell_type": "code",
   "execution_count": null,
   "metadata": {},
   "outputs": [],
   "source": []
  },
  {
   "cell_type": "raw",
   "metadata": {},
   "source": [
    "'''\n",
    "\n",
    ">> 編碼器-解碼器 - Encoder-Decoder\n",
    "\n",
    "    >> Encoder-Decoder 框架中\n",
    "        >> Encoder 嘗試將整個 輸入序列匯總為 固定維數ht\n",
    "        >> 編碼器 本身是一個遞 歸神經網絡（RNN / LSTM / BLSTM / GRU）\n",
    "        >> 獲取每個輸入特徵向量xt並切換其內部狀態以表示（匯總）序列\n",
    "        >> 直到ht為止\n",
    "        \n",
    "'''"
   ]
  },
  {
   "cell_type": "markdown",
   "metadata": {},
   "source": [
    "<img src=\"https://miro.medium.com/max/434/0*IK5c27rfOqciDb52.png\" width=\"50%\"> "
   ]
  },
  {
   "cell_type": "code",
   "execution_count": null,
   "metadata": {},
   "outputs": [],
   "source": []
  },
  {
   "cell_type": "raw",
   "metadata": {},
   "source": [
    "'''\n",
    "\n",
    ">> 提供一個 <sos> 作為輸入-序列令牌的 開始給 解碼器\n",
    "    >> 以保持一致性並 開始生成輸出符號\n",
    "    >> 解碼器是另一個遞歸神經網絡（非雙向）\n",
    "    >> 每次都會切換其內部狀態以預測輸出。\n",
    "    >> 在每個時間步長\n",
    "        >> 將前一個時間步長的輸出作為輸入，以預測當前的輸出。\n",
    "\n",
    "\n",
    "'''"
   ]
  },
  {
   "cell_type": "markdown",
   "metadata": {},
   "source": [
    "<img src=\"https://miro.medium.com/max/459/0*4pHmNQ_7BO2bIzN9.png\" width=\"50%\"> "
   ]
  },
  {
   "cell_type": "raw",
   "metadata": {},
   "source": [
    "'''\n",
    "\n",
    ">> 預測第i個輸出符號時的解碼器 隱藏狀態\n",
    "    >> 其中 Decoder()\n",
    "        >> 是解碼器LSTM正在實現以 更新其隱藏表示的 某些功能\n",
    "\n",
    "'''"
   ]
  },
  {
   "cell_type": "markdown",
   "metadata": {},
   "source": [
    "<img src=\"https://miro.medium.com/max/1715/0*MY5z0oYcosh6p6l8.gif\" width=\"75%\"> "
   ]
  },
  {
   "cell_type": "raw",
   "metadata": {},
   "source": [
    "'''\n",
    "\n",
    ">> 編碼器-解碼器 Encoder-Decoder\n",
    ">> 解碼器生成<eos> — 序列標記的結尾時 - 將停止 生成輸出符號序列\n",
    "    >> 給定解碼器隱藏表示s（i-1）\n",
    "        >> 從先前的輸出時間開始）和輸出符號y（i-1）（先前的輸出符號）\n",
    "        >> 可以在當前時間步預測輸出符號為：\n",
    "\n",
    "\n",
    "'''"
   ]
  },
  {
   "cell_type": "markdown",
   "metadata": {},
   "source": [
    "<img src=\"https://miro.medium.com/max/730/0*iALG5YJiRqIlOpyE.png\" width=\"50%\"> "
   ]
  },
  {
   "cell_type": "raw",
   "metadata": {},
   "source": [
    "'''\n",
    "\n",
    ">> g() \n",
    "    - 整個 Decoder函數\n",
    "        - 完整輸出序列 yy的 概率可以計算為：\n",
    "\n",
    "'''"
   ]
  },
  {
   "cell_type": "markdown",
   "metadata": {},
   "source": [
    "<img src=\"https://miro.medium.com/max/736/0*_1MHoj7PTOGTkTnM.png\" width=\"50%\"> "
   ]
  },
  {
   "cell_type": "code",
   "execution_count": null,
   "metadata": {},
   "outputs": [],
   "source": []
  },
  {
   "cell_type": "raw",
   "metadata": {},
   "source": [
    "'''\n",
    "\n",
    ">> 編碼器-解碼器的 潛在問題\n",
    "    >> Potential issues with the Encoder-Decoder\n",
    "\n",
    "- 神經網絡必須能夠將輸入特徵向量序列 的所有必要信息壓縮為 固定維向量\n",
    "- 當序列較長時，尤其是在測試時間的輸入序列明顯長於 訓練序列時\n",
    "    - 基本 Encoder-Decoder網絡的性能會下降\n",
    "- 強制編碼器 將整個 特徵向量序列匯總\n",
    "    - 為固定維向量取決於向量的大小（句子越長-向量越長）\n",
    "    - 這是 無法固定的，因為序列長度可以差異很大\n",
    "\n",
    "\n",
    "'''"
   ]
  },
  {
   "cell_type": "code",
   "execution_count": null,
   "metadata": {},
   "outputs": [],
   "source": []
  },
  {
   "cell_type": "raw",
   "metadata": {},
   "source": [
    "'''\n",
    "\n",
    ">> Attention\n",
    "\n",
    "    >> Attention  - Encoder-Decoder 框架的擴展\n",
    "    >> 每次模型需要生 成輸出符號時\n",
    "        >> 都會（soft- ）在 輸入特徵向量序列中\n",
    "        >> 搜索 最相關信息集中的 一 組位置\n",
    "        \n",
    "    >> 模型準確地選擇輸入序列中的 一組位置\n",
    "    >> Encoder-Decoder框架的 主要區別在於 - \n",
    "        - 不嘗試 將整個輸入序列匯總為 固定維向量\n",
    "        \n",
    "        - 選擇與特定上下文 最相關的h的子集\n",
    "        - 幫助 Decoder網絡生成輸出\n",
    "        - 線性混合此 相關ht\n",
    "            - 以獲得我們稱為上下文向量Ci的內容\n",
    "        \n",
    "'''"
   ]
  },
  {
   "cell_type": "markdown",
   "metadata": {},
   "source": [
    "<img src=\"https://miro.medium.com/max/575/0*ISZLLFTqquyELNiX.png\" width=\"50%\"> "
   ]
  },
  {
   "cell_type": "raw",
   "metadata": {},
   "source": [
    "'''\n",
    "\n",
    ">> 模型是參加 到輸入要素最為 相關的 當前上下文的子集\n",
    "    >> 關注所有 輸入特徵向量，但權 重不同\n",
    "    >> Attend to all the input feature vectors\n",
    "        >> different weight\n",
    "        \n",
    "'''"
   ]
  },
  {
   "cell_type": "code",
   "execution_count": null,
   "metadata": {},
   "outputs": [],
   "source": []
  },
  {
   "cell_type": "raw",
   "metadata": {},
   "source": [
    "'''\n",
    "\n",
    ">> Attention 與 編碼解碼器 有何不同\n",
    ">> How is Attention different from the Encoder-Decoder\n",
    "\n",
    "'''"
   ]
  },
  {
   "cell_type": "raw",
   "metadata": {},
   "source": [
    "'''\n",
    "\n",
    ">> Encoder-Decoder網絡中，Decoder隱藏狀態的計算公式為\n",
    "\n",
    "'''"
   ]
  },
  {
   "cell_type": "markdown",
   "metadata": {},
   "source": [
    "<img src=\"https://miro.medium.com/max/324/0*wG7rctWIonWT6t3W.png\" width=\"50%\"> "
   ]
  },
  {
   "cell_type": "raw",
   "metadata": {},
   "source": [
    "'''\n",
    "\n",
    ">> Attention 擴展中 ，計算 Decoder隱藏狀態時採用了 Context向量\n",
    "\n",
    "'''"
   ]
  },
  {
   "cell_type": "markdown",
   "metadata": {},
   "source": [
    "<img src=\"https://miro.medium.com/max/389/0*TNhl1BS_M9N6KlO9.png\" width=\"50%\"> "
   ]
  },
  {
   "cell_type": "raw",
   "metadata": {},
   "source": [
    "'''\n",
    "\n",
    ">> 上下文 向量 Context vector\n",
    "    >> 是僅最相關的 輸入特徵向量 feature vectors 的摘要\n",
    "    >> 為了捕獲這種 相關性\n",
    "    >> 考慮一個變量 - αα\n",
    "    >> 其中αiαi\n",
    "        >> 表示上下文向量Ci中的編碼表示形式hi的權重（也稱為註釋）hi\n",
    "        >> 用於預測時間ii的輸出\n",
    "        >> 給定這個αα\n",
    "        >> 可以將上下文向量計算為\n",
    "\n",
    "'''"
   ]
  },
  {
   "cell_type": "markdown",
   "metadata": {},
   "source": [
    "<img src=\"https://miro.medium.com/max/310/0*CXP09AZltOt12DSg.png\" width=\"25%\"> "
   ]
  },
  {
   "cell_type": "markdown",
   "metadata": {},
   "source": [
    "<img src=\"https://miro.medium.com/max/213/0*xnjawSsqIjYTq9Oz.png\" width=\"25%\"> "
   ]
  },
  {
   "cell_type": "raw",
   "metadata": {},
   "source": [
    "'''\n",
    "\n",
    ">> 計算alpha（i，j）\n",
    "    >> 需要e（i，j） -第j個註釋矢量對於預測第i個輸出符號的重要性\n",
    "    >> 這就是兼容性功能所產生的\n",
    "    >> 每個註釋hj的權重alpha（i，j）計算為\n",
    "\n",
    "\n",
    "'''"
   ]
  },
  {
   "cell_type": "markdown",
   "metadata": {},
   "source": [
    "<img src=\"https://miro.medium.com/max/656/0*Fkt0bgZsFwirGF_v.png\" width=\"50%\"> "
   ]
  },
  {
   "cell_type": "markdown",
   "metadata": {},
   "source": [
    "<img src=\"https://miro.medium.com/max/205/0*O1odLimMK8gUNVsM.png\" width=\"25%\">"
   ]
  },
  {
   "cell_type": "raw",
   "metadata": {},
   "source": [
    "'''\n",
    "\n",
    ">> 其中e（i，j）= AttentionFunction（si-1，hj）是一個兼容性函數\n",
    "    >> 用於計算具有解碼器隱藏狀態s（i-1）的每個註釋hj的重要性\n",
    "\n",
    "'''"
   ]
  },
  {
   "cell_type": "raw",
   "metadata": {},
   "source": [
    "'''\n",
    "\n",
    ">> 所有的A ttention模型中\n",
    "    >> 函數 AttentionFunction() 將會有所不同\n",
    ">> Atte0\\ntionFunction()\n",
    "    >> 定義了Attention的類型\n",
    "\n",
    ">> 下圖顯示了語音識別注意的示例\n",
    "\n",
    "'''"
   ]
  },
  {
   "cell_type": "markdown",
   "metadata": {},
   "source": [
    "<img src=\"https://miro.medium.com/max/1250/1*VKj0RUGDojB7BYae0XZqOQ.gif\" width=\"75%\">"
   ]
  },
  {
   "cell_type": "raw",
   "metadata": {},
   "source": [
    "'''\n",
    "\n",
    ">> Attention 輸入序列以 生成輸出\n",
    ">> Attention over an input sequence to generate the output\n",
    "\n",
    "'''"
   ]
  },
  {
   "cell_type": "raw",
   "metadata": {},
   "source": [
    "'''\n",
    "\n",
    ">> 如果在訓練模型之前（在時間點 -0 - epoch 0）看到Attention權重\n",
    "    >> 則 Attention權重 都是隨機的\n",
    "    >> 因此上下文向量Ci包含來自無關輸入特徵向量的不必要的噪聲\n",
    "    >> 這導致模型性能下降\n",
    "    >> 相當明顯的是\n",
    "        >> 好的Attention模型會產生更好的上下文向量\n",
    "        >> 從而導致更好的模型性能。\n",
    "        >> 可以以抽象形式顯示如下\n",
    "        >> 每個特徵向量序列與一些權重混合在一起\n",
    "        >> 然後饋入解碼器網絡以做出決策\n",
    "        >> 這些功能融合在一起的權重\n",
    "            >> 由AttentionFunction決定\n",
    "\n",
    "'''"
   ]
  },
  {
   "cell_type": "markdown",
   "metadata": {},
   "source": [
    "<img src=\"https://miro.medium.com/max/1121/0*X1pY_Qd-4VUXfw4C.gif\" width=\"50%\">"
   ]
  },
  {
   "cell_type": "raw",
   "metadata": {},
   "source": [
    "'''\n",
    "\n",
    ">> Attention — an abstract representation -抽象表示\n",
    "\n",
    "'''"
   ]
  },
  {
   "cell_type": "raw",
   "metadata": {},
   "source": [
    "'''\n",
    "\n",
    ">> 還可以看到注意力權重 是如何隨著時間（歷時）而發展的\n",
    "    >> 從而可以更深入地了解模型的學習方式\n",
    "    >> 將每個時期的所有Attention權重合併為一個 gif\n",
    "\n",
    "'''"
   ]
  },
  {
   "cell_type": "markdown",
   "metadata": {},
   "source": [
    "<img src=\"https://miro.medium.com/max/2250/0*ViRbsXYnE7LNxnrw.gif\" width=\"75%\">"
   ]
  },
  {
   "cell_type": "raw",
   "metadata": {},
   "source": [
    "'''\n",
    "\n",
    ">> 訓練期間注意權重的推移\n",
    "    - Attention weights progress over epochs during training\n",
    "\n",
    ">> 以這些注意力機制attention mechanisms 之一為例\n",
    "    >> - 點乘積 注意力 - Dot Product Attention\n",
    "    >> 看看 Attention\n",
    "        >> 如何 端到端 地工作以生成上下文向量Ci。\n",
    "        >> end-to-end to generate the context vector Ci\n",
    "        \n",
    ">> Dot product attention\n",
    "\n",
    "'''"
   ]
  },
  {
   "cell_type": "code",
   "execution_count": null,
   "metadata": {},
   "outputs": [],
   "source": []
  },
  {
   "cell_type": "markdown",
   "metadata": {},
   "source": [
    "<img src=\"https://miro.medium.com/max/1251/0*M3tCpXOnFi7N2UoK.gif\" width=\"75%\">"
   ]
  },
  {
   "cell_type": "code",
   "execution_count": null,
   "metadata": {},
   "outputs": [],
   "source": []
  },
  {
   "cell_type": "code",
   "execution_count": null,
   "metadata": {},
   "outputs": [],
   "source": []
  },
  {
   "cell_type": "raw",
   "metadata": {},
   "source": [
    "'''\n",
    "\n",
    ">> 程式範例\n",
    "\n",
    "'''"
   ]
  },
  {
   "cell_type": "raw",
   "metadata": {},
   "source": [
    "'''\n",
    "\n",
    ">> 資料準備\n",
    "\n",
    "    >> 你我互動學習園地\n",
    "        >> https://interactiveuandmetutorials.weebly.com/\n",
    "    \n",
    "    >> Python 程式語言 設計\n",
    "        >> https://pythonprogrammingtutorials.weebly.com/\n",
    "        \n",
    "    >> Datasets - 法語 France 音頻 數據集 \n",
    "        >> Sounds \n",
    "        >>  12個 - 法語單詞組成的 數據庫\n",
    "        >>  法語單詞- 由不同的發音者發音大 - 25次\n",
    "        \n",
    "        >> unzip\n",
    "        >> https://www.dropbox.com/s/c12fmsctfwwov5d/sounds.zip\n",
    "    \n",
    "    \n",
    "    \n",
    "    \n",
    ">> 檔案路徑/\n",
    "    ├── 課程 10 - Speech Recognition - End To End ASR - Attention  端到端 - 自動語音識別\n",
    "    ├── Datasets/\n",
    "    ├        ├── wavToTag.txt \n",
    "    ├        ├── \n",
    "    ├        ├── \n",
    "    ├        ├── \n",
    "    ├        \n",
    "    ├── Sound/ 244 . wave檔案 /  248 個檔案 - 19.8 MB\n",
    "    ├        ├── 0  .wav\n",
    "    ├        ├── 1  .wav\n",
    "    ├        ├── ...\n",
    "    ├        ├── 244.wav \n",
    "    ├        ├── \n",
    "    ├── dtw.py\n",
    "   \n",
    "'''"
   ]
  },
  {
   "cell_type": "code",
   "execution_count": null,
   "metadata": {},
   "outputs": [],
   "source": []
  },
  {
   "cell_type": "raw",
   "metadata": {},
   "source": [
    "'''\n",
    "\n",
    ">> 程式範例\n",
    "\n",
    "'''"
   ]
  },
  {
   "cell_type": "code",
   "execution_count": 34,
   "metadata": {},
   "outputs": [
    {
     "name": "stdout",
     "output_type": "stream",
     "text": [
      " 磁碟區 C 中的磁碟是 OS\n",
      " 磁碟區序號:  68E3-32FD\n",
      "\n",
      " C:\\Users\\calvi\\OneDrive\\桌面\\課程10 的目錄\n",
      "\n",
      "2019/10/09  下午 01:19    <DIR>          .\n",
      "2019/10/09  下午 01:19    <DIR>          ..\n",
      "2019/10/09  上午 09:33    <DIR>          .ipynb_checkpoints\n",
      "2019/10/09  上午 10:28    <DIR>          __pycache__\n",
      "2019/10/09  上午 10:09    <DIR>          datasets\n",
      "2018/09/12  上午 08:09             4,578 dtw.py\n",
      "2019/10/09  上午 09:14    <DIR>          DTWSpeech-master\n",
      "2019/10/09  上午 10:07    <DIR>          sounds\n",
      "2019/10/08  上午 11:52        14,778,801 sounds.zip\n",
      "2019/10/07  上午 09:37           661,844 SR10youtubefrontpage.png\n",
      "2019/10/07  下午 06:03           469,077 SR10youtubefrontpage.pptx\n",
      "2019/08/07  下午 03:08             1,076 WinRAR.lnk\n",
      "2019/10/09  下午 01:19            62,329 課程 10 - Speech Recognition - End To End ASR - Attention  端到端 - 自動語音識別 .ipynb\n",
      "               6 個檔案      15,977,705 位元組\n",
      "               7 個目錄  23,379,668,992 位元組可用\n"
     ]
    }
   ],
   "source": [
    "ls"
   ]
  },
  {
   "cell_type": "code",
   "execution_count": 35,
   "metadata": {},
   "outputs": [
    {
     "name": "stdout",
     "output_type": "stream",
     "text": [
      "C:\\Users\\calvi\\OneDrive\\桌面\\課程10\\sounds\n"
     ]
    }
   ],
   "source": [
    "cd sounds"
   ]
  },
  {
   "cell_type": "code",
   "execution_count": 36,
   "metadata": {},
   "outputs": [
    {
     "name": "stdout",
     "output_type": "stream",
     "text": [
      " 磁碟區 C 中的磁碟是 OS\n",
      " 磁碟區序號:  68E3-32FD\n",
      "\n",
      " C:\\Users\\calvi\\OneDrive\\桌面\\課程10\\sounds 的目錄\n",
      "\n",
      "2019/10/09  上午 10:07    <DIR>          .\n",
      "2019/10/09  上午 10:07    <DIR>          ..\n",
      "2012/03/02  下午 06:10            79,916 0.wav\n",
      "2012/03/02  下午 06:10            53,292 1.wav\n",
      "2012/03/02  下午 06:10            93,228 10.wav\n",
      "2012/03/02  下午 06:10            95,276 100.wav\n",
      "2012/03/02  下午 06:10           104,492 101.wav\n",
      "2012/03/02  下午 06:10            41,580 102.wav\n",
      "2012/03/02  下午 06:10            78,892 103.wav\n",
      "2012/03/02  下午 06:10            51,948 104.wav\n",
      "2012/03/02  下午 06:10            44,076 105.wav\n",
      "2012/03/02  下午 06:10            84,012 106.wav\n",
      "2012/03/02  下午 06:10            87,084 107.wav\n",
      "2012/03/02  下午 06:10            82,988 108.wav\n",
      "2012/03/02  下午 06:10            26,668 109.wav\n",
      "2012/03/02  下午 06:10           103,468 11.wav\n",
      "2012/03/02  下午 06:10           104,492 110.wav\n",
      "2012/03/02  下午 06:10           103,468 111.wav\n",
      "2012/03/02  下午 06:10            90,156 112.wav\n",
      "2012/03/02  下午 06:10            45,100 113.wav\n",
      "2012/03/02  下午 06:10            62,508 114.wav\n",
      "2012/03/02  下午 06:10            59,436 115.wav\n",
      "2012/03/02  下午 06:10            60,460 116.wav\n",
      "2012/03/02  下午 06:10            74,796 117.wav\n",
      "2012/03/02  下午 06:10            48,172 118.wav\n",
      "2012/03/02  下午 06:10            73,772 119.wav\n",
      "2012/03/02  下午 06:10            89,132 12.wav\n",
      "2012/03/02  下午 06:10           106,540 120.wav\n",
      "2012/03/02  下午 06:10            92,204 121.wav\n",
      "2012/03/02  下午 06:10            60,460 122.wav\n",
      "2012/03/02  下午 06:10            55,340 123.wav\n",
      "2012/03/02  下午 06:10            67,628 124.wav\n",
      "2012/03/02  下午 06:10            54,316 125.wav\n",
      "2012/03/02  下午 06:10            98,348 126.wav\n",
      "2012/03/02  下午 06:10           436,656 127.wav\n",
      "2012/03/02  下午 06:10            64,556 128.wav\n",
      "2012/03/02  下午 06:10            92,204 129.wav\n",
      "2012/03/02  下午 06:10            68,652 13.wav\n",
      "2012/03/02  下午 06:10           128,044 130.wav\n",
      "2012/03/02  下午 06:10            25,644 131.wav\n",
      "2012/03/02  下午 06:10            48,172 132.wav\n",
      "2012/03/02  下午 06:10            78,892 133.wav\n",
      "2012/03/02  下午 06:10            81,964 134.wav\n",
      "2012/03/02  下午 06:10            86,060 135.wav\n",
      "2012/03/02  下午 06:10            53,292 136.wav\n",
      "2012/03/02  下午 06:10            39,980 137.wav\n",
      "2012/03/02  下午 06:10            41,004 138.wav\n",
      "2012/03/02  下午 06:10            42,028 139.wav\n",
      "2012/03/02  下午 06:10            61,484 14.wav\n",
      "2012/03/02  下午 06:10            55,340 140.wav\n",
      "2012/03/02  下午 06:10            44,076 141.wav\n",
      "2012/03/02  下午 06:10            74,796 142.wav\n",
      "2012/03/02  下午 06:10            87,084 143.wav\n",
      "2012/03/02  下午 06:10            73,772 144.wav\n",
      "2012/03/02  下午 06:10            64,556 145.wav\n",
      "2012/03/02  下午 06:10            53,292 146.wav\n",
      "2012/03/02  下午 06:10            42,028 147.wav\n",
      "2012/03/02  下午 06:10            80,940 148.wav\n",
      "2012/03/02  下午 06:10            86,060 149.wav\n",
      "2012/03/02  下午 06:10            46,124 15.wav\n",
      "2012/03/02  下午 06:10            41,004 150.wav\n",
      "2012/03/02  下午 06:10            90,156 151.wav\n",
      "2012/03/02  下午 06:10            47,148 152.wav\n",
      "2012/03/02  下午 06:10            70,700 153.wav\n",
      "2012/03/02  下午 06:10            71,724 154.wav\n",
      "2012/03/02  下午 06:10            43,052 155.wav\n",
      "2012/03/02  下午 06:10            41,004 156.wav\n",
      "2012/03/02  下午 06:10            79,916 157.wav\n",
      "2012/03/02  下午 06:10            97,324 158.wav\n",
      "2012/03/02  下午 06:10            76,844 159.wav\n",
      "2012/03/02  下午 06:10            94,252 16.wav\n",
      "2012/03/02  下午 06:10           103,468 160.wav\n",
      "2012/03/02  下午 06:10            80,940 161.wav\n",
      "2012/03/02  下午 06:10           100,396 162.wav\n",
      "2012/03/02  下午 06:10            82,988 163.wav\n",
      "2012/03/02  下午 06:10            99,372 164.wav\n",
      "2012/03/02  下午 06:10            81,964 165.wav\n",
      "2012/03/02  下午 06:10            67,628 166.wav\n",
      "2012/03/02  下午 06:10            78,892 167.wav\n",
      "2012/03/02  下午 06:10            33,836 168.wav\n",
      "2012/03/02  下午 06:10            63,532 169.wav\n",
      "2012/03/02  下午 06:10            73,772 17.wav\n",
      "2012/03/02  下午 06:10           101,420 170.wav\n",
      "2012/03/02  下午 06:10            73,772 171.wav\n",
      "2012/03/02  下午 06:10            69,676 172.wav\n",
      "2012/03/02  下午 06:10            79,916 173.wav\n",
      "2012/03/02  下午 06:10            58,412 174.wav\n",
      "2012/03/02  下午 06:10            50,220 175.wav\n",
      "2012/03/02  下午 06:10            72,748 176.wav\n",
      "2012/03/02  下午 06:10            95,276 177.wav\n",
      "2012/03/02  下午 06:10           102,444 178.wav\n",
      "2012/03/02  下午 06:10            32,812 179.wav\n",
      "2012/03/02  下午 06:10            76,844 18.wav\n",
      "2012/03/02  下午 06:10            90,156 180.wav\n",
      "2012/03/02  下午 06:10            92,204 181.wav\n",
      "2012/03/02  下午 06:10            97,324 182.wav\n",
      "2012/03/02  下午 06:10            53,292 183.wav\n",
      "2012/03/02  下午 06:10            64,556 184.wav\n",
      "2012/03/02  下午 06:10            69,676 185.wav\n",
      "2012/03/02  下午 06:10            82,988 186.wav\n",
      "2012/03/02  下午 06:10           133,164 187.wav\n",
      "2012/03/02  下午 06:10            97,324 188.wav\n",
      "2012/03/02  下午 06:10            56,364 189.wav\n",
      "2012/03/02  下午 06:10            72,748 19.wav\n",
      "2012/03/02  下午 06:10           123,948 190.wav\n",
      "2012/03/02  下午 06:10            61,484 191.wav\n",
      "2012/03/02  下午 06:10            74,796 192.wav\n",
      "2012/03/02  下午 06:10            67,628 193.wav\n",
      "2012/03/02  下午 06:10            77,868 194.wav\n",
      "2012/03/02  下午 06:10            62,508 195.wav\n",
      "2012/03/02  下午 06:10            87,084 196.wav\n",
      "2012/03/02  下午 06:10            92,204 197.wav\n",
      "2012/03/02  下午 06:10            86,060 198.wav\n",
      "2012/03/02  下午 06:10            89,132 199.wav\n",
      "2012/03/02  下午 06:10            72,748 2.wav\n",
      "2012/03/02  下午 06:10            45,100 20.wav\n",
      "2012/03/02  下午 06:10            86,060 200.wav\n",
      "2012/03/02  下午 06:10            74,796 201.wav\n",
      "2012/03/02  下午 06:10            68,652 202.wav\n",
      "2012/03/02  下午 06:10           100,396 203.wav\n",
      "2012/03/02  下午 06:10            78,892 204.wav\n",
      "2012/03/02  下午 06:10            44,076 205.wav\n",
      "2012/03/02  下午 06:10            74,796 206.wav\n",
      "2012/03/02  下午 06:10            85,036 207.wav\n",
      "2012/03/02  下午 06:10            55,340 208.wav\n",
      "2012/03/02  下午 06:10            76,844 209.wav\n",
      "2012/03/02  下午 06:10            73,772 21.wav\n",
      "2012/03/02  下午 06:10            79,916 210.wav\n",
      "2012/03/02  下午 06:10            70,700 211.wav\n",
      "2012/03/02  下午 06:10            43,052 212.wav\n",
      "2012/03/02  下午 06:10            76,844 213.wav\n",
      "2012/03/02  下午 06:10           140,332 214.wav\n",
      "2012/03/02  下午 06:10            71,724 215.wav\n",
      "2012/03/02  下午 06:10           107,564 216.wav\n",
      "2012/03/02  下午 06:10           150,572 217.wav\n",
      "2012/03/02  下午 06:10            88,108 218.wav\n",
      "2012/03/02  下午 06:10            84,012 219.wav\n",
      "2012/03/02  下午 06:10            70,700 22.wav\n",
      "2012/03/02  下午 06:10            77,868 220.wav\n",
      "2012/03/02  下午 06:10            71,724 221.wav\n",
      "2012/03/02  下午 06:10            54,316 222.wav\n",
      "2012/03/02  下午 06:10            91,180 223.wav\n",
      "2012/03/02  下午 06:10            87,084 224.wav\n",
      "2012/03/02  下午 06:10           110,636 225.wav\n",
      "2012/03/02  下午 06:10            76,844 226.wav\n",
      "2012/03/02  下午 06:10           141,356 227.wav\n",
      "2012/03/02  下午 06:10            88,108 228.wav\n",
      "2012/03/02  下午 06:10            88,108 229.wav\n",
      "2012/03/02  下午 06:10            99,372 23.wav\n",
      "2012/03/02  下午 06:10            75,820 230.wav\n",
      "2012/03/02  下午 06:10            68,652 231.wav\n",
      "2012/03/02  下午 06:10            42,028 232.wav\n",
      "2012/03/02  下午 06:10            22,572 233.wav\n",
      "2012/03/02  下午 06:10            48,172 234.wav\n",
      "2012/03/02  下午 06:10            62,508 235.wav\n",
      "2012/03/02  下午 06:10            54,316 236.wav\n",
      "2012/03/02  下午 06:10            66,604 237.wav\n",
      "2012/03/02  下午 06:10            62,508 238.wav\n",
      "2012/03/02  下午 06:10            63,532 239.wav\n",
      "2012/03/02  下午 06:10            81,964 24.wav\n",
      "2012/03/02  下午 06:10            78,892 240.wav\n",
      "2012/03/02  下午 06:10            61,484 241.wav\n",
      "2012/03/02  下午 06:10            79,916 242.wav\n",
      "2012/03/02  下午 06:10            53,292 243.wav\n",
      "2012/03/02  下午 06:10            60,460 244.wav\n",
      "2012/03/02  下午 06:10            97,324 25.wav\n",
      "2012/03/02  下午 06:10            53,292 26.wav\n",
      "2012/03/02  下午 06:10           123,948 27.wav\n",
      "2012/03/02  下午 06:10           140,332 28.wav\n",
      "2012/03/02  下午 06:10           125,996 29.wav\n",
      "2012/03/02  下午 06:10            50,220 3.wav\n",
      "2012/03/02  下午 06:10            94,252 30.wav\n",
      "2012/03/02  下午 06:10           131,116 31.wav\n",
      "2012/03/02  下午 06:10           141,356 32.wav\n",
      "2012/03/02  下午 06:10            76,844 33.wav\n",
      "2012/03/02  下午 06:10           124,972 34.wav\n",
      "2012/03/02  下午 06:10            82,988 35.wav\n",
      "2012/03/02  下午 06:10           107,564 36.wav\n",
      "2012/03/02  下午 06:10            61,484 37.wav\n",
      "2012/03/02  下午 06:10            72,748 38.wav\n",
      "2012/03/02  下午 06:10            71,724 39.wav\n",
      "2012/03/02  下午 06:10            74,796 4.wav\n",
      "2012/03/02  下午 06:10            68,652 40.wav\n",
      "2012/03/02  下午 06:10            72,748 41.wav\n",
      "2012/03/02  下午 06:10            98,348 42.wav\n",
      "2012/03/02  下午 06:10            80,940 43.wav\n",
      "2012/03/02  下午 06:10           165,932 44.wav\n",
      "2012/03/02  下午 06:10            88,108 45.wav\n",
      "2012/03/02  下午 06:10            99,372 46.wav\n",
      "2012/03/02  下午 06:10           102,444 47.wav\n",
      "2012/03/02  下午 06:10            96,300 48.wav\n",
      "2012/03/02  下午 06:10           119,852 49.wav\n",
      "2012/03/02  下午 06:10            71,724 5.wav\n",
      "2012/03/02  下午 06:10           116,780 50.wav\n",
      "2012/03/02  下午 06:10            67,628 51.wav\n",
      "2012/03/02  下午 06:10            97,324 52.wav\n",
      "2012/03/02  下午 06:10           109,612 53.wav\n",
      "2012/03/02  下午 06:10            63,532 54.wav\n",
      "2012/03/02  下午 06:10           137,260 55.wav\n",
      "2012/03/02  下午 06:10            61,484 56.wav\n",
      "2012/03/02  下午 06:10           104,492 57.wav\n",
      "2012/03/02  下午 06:10            91,180 58.wav\n",
      "2012/03/02  下午 06:10           117,804 59.wav\n",
      "2012/03/02  下午 06:10            92,204 6.wav\n",
      "2012/03/02  下午 06:10            91,180 60.wav\n",
      "2012/03/02  下午 06:10            97,324 61.wav\n",
      "2012/03/02  下午 06:10            90,156 62.wav\n",
      "2012/03/02  下午 06:10           135,212 63.wav\n",
      "2012/03/02  下午 06:10            88,108 64.wav\n",
      "2012/03/02  下午 06:10            76,844 65.wav\n",
      "2012/03/02  下午 06:10            51,244 66.wav\n",
      "2012/03/02  下午 06:10            95,276 67.wav\n",
      "2012/03/02  下午 06:10           125,996 68.wav\n",
      "2012/03/02  下午 06:10           132,140 69.wav\n",
      "2012/03/02  下午 06:10            41,004 7.wav\n",
      "2012/03/02  下午 06:10            48,172 70.wav\n",
      "2012/03/02  下午 06:10           105,516 71.wav\n",
      "2012/03/02  下午 06:10           116,780 72.wav\n",
      "2012/03/02  下午 06:10            99,372 73.wav\n",
      "2012/03/02  下午 06:10           176,512 74.wav\n",
      "2012/03/02  下午 06:10            76,844 75.wav\n",
      "2012/03/02  下午 06:10            82,988 76.wav\n",
      "2012/03/02  下午 06:10           138,284 77.wav\n",
      "2012/03/02  下午 06:10            76,844 78.wav\n",
      "2012/03/02  下午 06:10           102,444 79.wav\n",
      "2012/03/02  下午 06:10            94,252 8.wav\n",
      "2012/03/02  下午 06:10           114,732 80.wav\n",
      "2012/03/02  下午 06:10           114,732 81.wav\n",
      "2012/03/02  下午 06:10           441,044 82.wav\n",
      "2012/03/02  下午 06:10            95,276 83.wav\n",
      "2012/03/02  下午 06:10            70,700 84.wav\n",
      "2012/03/02  下午 06:10            59,436 85.wav\n",
      "2012/03/02  下午 06:10           114,732 86.wav\n",
      "2012/03/02  下午 06:10            59,436 87.wav\n",
      "2012/03/02  下午 06:10            60,460 88.wav\n",
      "2012/03/02  下午 06:10           108,588 89.wav\n",
      "2012/03/02  下午 06:10            89,132 9.wav\n",
      "2012/03/02  下午 06:10            99,372 90.wav\n",
      "2012/03/02  下午 06:10            53,292 91.wav\n",
      "2012/03/02  下午 06:10            58,156 92.wav\n",
      "2012/03/02  下午 06:10            36,908 93.wav\n",
      "2012/03/02  下午 06:10            72,748 94.wav\n",
      "2012/03/02  下午 06:10            75,820 95.wav\n",
      "2012/03/02  下午 06:10            72,748 96.wav\n",
      "2012/03/02  下午 06:10            65,580 97.wav\n",
      "2012/03/02  下午 06:10            43,052 98.wav\n",
      "2012/03/02  下午 06:10            32,812 99.wav\n",
      "2012/03/07  下午 02:57           480,280 dtw.npy\n",
      "2011/02/14  下午 12:05               129 hist.txt\n",
      "2011/02/14  上午 10:54             1,888 wavToTag.txt\n",
      "             248 個檔案      20,803,477 位元組\n",
      "               2 個目錄  23,374,872,576 位元組可用\n"
     ]
    }
   ],
   "source": [
    "ls"
   ]
  },
  {
   "cell_type": "code",
   "execution_count": 37,
   "metadata": {},
   "outputs": [
    {
     "name": "stdout",
     "output_type": "stream",
     "text": [
      "C:\\Users\\calvi\\OneDrive\\桌面\\課程10\n"
     ]
    }
   ],
   "source": [
    "cd .."
   ]
  },
  {
   "cell_type": "code",
   "execution_count": 42,
   "metadata": {},
   "outputs": [
    {
     "data": {
      "text/plain": [
       "['.ipynb_checkpoints',\n",
       " 'datasets',\n",
       " 'dtw.py',\n",
       " 'DTWSpeech-master',\n",
       " 'sounds',\n",
       " 'sounds.zip',\n",
       " 'SR10youtubefrontpage.png',\n",
       " 'SR10youtubefrontpage.pptx',\n",
       " 'WinRAR.lnk',\n",
       " '__pycache__',\n",
       " '課程 10 - Speech Recognition - End To End ASR - Attention  端到端 - 自動語音識別 .ipynb']"
      ]
     },
     "execution_count": 42,
     "metadata": {},
     "output_type": "execute_result"
    }
   ],
   "source": [
    "import os\n",
    "os.listdir()"
   ]
  },
  {
   "cell_type": "raw",
   "metadata": {},
   "source": [
    "'''\n",
    "\n",
    ">> 導入相關的庫\n",
    "    >> Import Relative the Libraries\n",
    "\n",
    "'''"
   ]
  },
  {
   "cell_type": "code",
   "execution_count": 4,
   "metadata": {},
   "outputs": [
    {
     "name": "stdout",
     "output_type": "stream",
     "text": [
      "Populating the interactive namespace from numpy and matplotlib\n"
     ]
    }
   ],
   "source": [
    "%pylab inline\n",
    "%matplotlib inline "
   ]
  },
  {
   "cell_type": "code",
   "execution_count": null,
   "metadata": {},
   "outputs": [],
   "source": []
  },
  {
   "cell_type": "code",
   "execution_count": 11,
   "metadata": {},
   "outputs": [
    {
     "name": "stdout",
     "output_type": "stream",
     "text": [
      "['chaussure' 'manette' 'biere' 'gants' 'sofoot' 'stade' 'chaussure'\n",
      " 'manette' 'chaussure' 'cocacola' 'sofoot' 'beckham' 'jeuvideo' 'manette'\n",
      " 'stade' 'gants' 'zidane' 'jeuvideo' 'girondins' 'stade' 'gants' 'gants'\n",
      " 'biere' 'jeuvideo' 'zidane' 'sofoot' 'biere' 'zidane' 'jeuvideo'\n",
      " 'cocacola' 'manette' 'sofoot' 'cocacola' 'biere' 'sofoot' 'beckham'\n",
      " 'stade' 'zidane' 'chaussure' 'manette' 'biere' 'sofoot' 'ballon' 'stade'\n",
      " 'girondins' 'manette' 'cocacola' 'zidane' 'ballon' 'stade' 'cocacola'\n",
      " 'beckham' 'sofoot' 'jeuvideo' 'gants' 'ballon' 'gants' 'cocacola'\n",
      " 'jeuvideo' 'manette' 'chaussure' 'chaussure' 'sofoot' 'jeuvideo'\n",
      " 'chaussure' 'gants' 'gants' 'chaussure' 'jeuvideo' 'beckham' 'stade'\n",
      " 'girondins' 'chaussure' 'gants' 'stade' 'biere' 'chaussure' 'jeuvideo'\n",
      " 'cocacola' 'jeuvideo' 'zidane' 'chaussure' 'manette' 'stade' 'beckham'\n",
      " 'sofoot' 'chaussure' 'stade' 'cocacola' 'chaussure' 'cocacola' 'gants'\n",
      " 'girondins' 'stade' 'ballon' 'chaussure' 'jeuvideo' 'manette' 'beckham'\n",
      " 'gants' 'chaussure' 'biere' 'beckham' 'ballon' 'chaussure' 'gants'\n",
      " 'chaussure' 'cocacola' 'stade' 'gants' 'sofoot' 'chaussure' 'jeuvideo'\n",
      " 'stade' 'beckham' 'cocacola' 'beckham' 'manette' 'stade' 'biere' 'zidane'\n",
      " 'girondins' 'chaussure' 'gants' 'cocacola' 'stade' 'jeuvideo' 'sofoot'\n",
      " 'biere' 'beckham' 'manette' 'gants' 'sofoot' 'manette' 'chaussure'\n",
      " 'girondins' 'gants' 'biere' 'stade' 'ballon' 'sofoot' 'manette' 'zidane'\n",
      " 'zidane' 'sofoot' 'ballon' 'manette' 'biere' 'beckham' 'stade' 'gants'\n",
      " 'jeuvideo' 'manette' 'stade' 'beckham' 'manette' 'ballon' 'jeuvideo'\n",
      " 'zidane' 'cocacola' 'gants' 'biere' 'beckham' 'ballon' 'jeuvideo'\n",
      " 'girondins' 'zidane' 'sofoot' 'biere' 'girondins' 'sofoot' 'cocacola'\n",
      " 'stade' 'girondins' 'girondins' 'gants' 'zidane' 'stade' 'biere' 'gants'\n",
      " 'sofoot' 'manette' 'girondins' 'sofoot' 'beckham' 'ballon' 'chaussure'\n",
      " 'chaussure' 'jeuvideo' 'ballon' 'beckham' 'stade' 'manette' 'beckham'\n",
      " 'sofoot' 'zidane' 'girondins' 'biere' 'ballon' 'cocacola' 'beckham'\n",
      " 'chaussure' 'chaussure' 'ballon' 'jeuvideo' 'biere' 'biere' 'zidane'\n",
      " 'ballon' 'biere' 'zidane' 'beckham' 'chaussure' 'manette' 'jeuvideo'\n",
      " 'gants' 'stade' 'sofoot' 'beckham' 'ballon' 'stade' 'beckham' 'ballon'\n",
      " 'biere' 'gants' 'stade' 'chaussure' 'jeuvideo' 'chaussure' 'manette'\n",
      " 'zidane' 'beckham' 'ballon' 'gants' 'girondins' 'stade' 'zidane'\n",
      " 'girondins' 'ballon' 'gants' 'girondins' 'stade' 'cocacola' 'girondins'\n",
      " 'zidane'] 245\n",
      "{'girondins', 'sofoot', 'ballon', 'gants', 'cocacola', 'jeuvideo', 'biere', 'chaussure', 'zidane', 'beckham', 'manette', 'stade'} 12\n"
     ]
    }
   ],
   "source": [
    "with open(\"datasets/wavToTag.txt\") as f:\n",
    "    labels = array([l.replace('\\n', '') for l in f.readlines()])\n",
    "print(labels,len(labels)) # 245 Label words\n",
    "print(set(labels), len(set(labels)))"
   ]
  },
  {
   "cell_type": "code",
   "execution_count": 14,
   "metadata": {},
   "outputs": [
    {
     "name": "stdout",
     "output_type": "stream",
     "text": [
      "245\n",
      "{'girondins', 'sofoot', 'ballon', 'gants', 'cocacola', 'jeuvideo', 'biere', 'chaussure', 'zidane', 'beckham', 'manette', 'stade'}\n",
      "12\n"
     ]
    }
   ],
   "source": [
    "print(len(labels)) \n",
    "print(set(labels))\n",
    "print(len(set(labels)))"
   ]
  },
  {
   "cell_type": "code",
   "execution_count": null,
   "metadata": {},
   "outputs": [],
   "source": []
  },
  {
   "cell_type": "raw",
   "metadata": {},
   "source": [
    "'''\n",
    "\n",
    ">> 計算- 所有MFCC\n",
    "    >> Precompute all MFCCs\n",
    "\n",
    "'''"
   ]
  },
  {
   "cell_type": "code",
   "execution_count": 15,
   "metadata": {},
   "outputs": [
    {
     "name": "stdout",
     "output_type": "stream",
     "text": [
      "Time used: 17.929302s.\n",
      "Wall time: 21.4 s\n"
     ]
    }
   ],
   "source": [
    "%%time \n",
    "\n",
    "import librosa\n",
    "import time\n",
    "\n",
    "mfccs = {}\n",
    "start = time.clock()\n",
    "for i in range(len(labels)):\n",
    "    y, sr = librosa.load('sounds/{}.wav'.format(i))\n",
    "    mfcc = librosa.feature.mfcc(y, sr, n_mfcc=13)\n",
    "    mfccs[i] = mfcc.T\n",
    "print(\"Time used: %fs.\"%(time.clock() - start))"
   ]
  },
  {
   "cell_type": "raw",
   "metadata": {},
   "source": [
    "'''\n",
    "\n",
    ">> MFCC 形狀 -MFCC Shape \n",
    "\n",
    "'''"
   ]
  },
  {
   "cell_type": "code",
   "execution_count": 17,
   "metadata": {},
   "outputs": [
    {
     "data": {
      "text/plain": [
       "array([[-5.23909725e+02, -5.14277058e+02, -5.08383455e+02,\n",
       "        -5.03321541e+02, -4.94519466e+02, -4.65910898e+02,\n",
       "        -4.27617567e+02, -4.11074714e+02, -4.16992667e+02,\n",
       "        -4.48448189e+02, -4.16423526e+02, -3.72167897e+02,\n",
       "        -3.48668215e+02, -3.42148897e+02, -3.56599554e+02,\n",
       "        -3.56355754e+02, -3.73584406e+02, -4.11759826e+02,\n",
       "        -4.49082579e+02, -4.65055446e+02, -4.62102496e+02,\n",
       "        -4.58122782e+02, -4.80768998e+02, -5.14536593e+02,\n",
       "        -5.41264876e+02, -5.37228255e+02, -5.31425277e+02,\n",
       "        -5.30953460e+02, -5.24810425e+02, -5.20261750e+02],\n",
       "       [ 8.30365065e+01,  8.28247801e+01,  8.23991114e+01,\n",
       "         7.61262860e+01,  7.06398660e+01,  9.37166053e+01,\n",
       "         1.16524703e+02,  1.15610497e+02,  1.14850742e+02,\n",
       "         1.18552712e+02,  1.37832509e+02,  1.48031708e+02,\n",
       "         1.46399695e+02,  1.49403214e+02,  1.43372724e+02,\n",
       "         1.42289150e+02,  1.38342135e+02,  1.37310456e+02,\n",
       "         1.25137471e+02,  1.11539807e+02,  1.19652483e+02,\n",
       "         1.33575092e+02,  1.31125480e+02,  1.10405647e+02,\n",
       "         9.11493282e+01,  9.22678870e+01,  8.89885252e+01,\n",
       "         8.97620097e+01,  8.69912854e+01,  8.17604034e+01],\n",
       "       [-3.37494491e+01, -3.95948673e+01, -4.80375616e+01,\n",
       "        -5.12708004e+01, -5.82731325e+01, -5.00091902e+01,\n",
       "        -5.51695799e+01, -7.31050075e+01, -7.52770874e+01,\n",
       "        -5.08804022e+01, -7.19165830e+01, -9.41193766e+01,\n",
       "        -1.15362960e+02, -1.21986393e+02, -1.14185738e+02,\n",
       "        -1.12483244e+02, -1.03164753e+02, -7.44580606e+01,\n",
       "        -5.47617921e+01, -5.13195771e+01, -4.72107344e+01,\n",
       "        -3.70859894e+01, -1.93417107e+01, -8.04417798e+00,\n",
       "        -1.33257403e+01, -1.74438296e+01, -2.33097606e+01,\n",
       "        -2.48266288e+01, -3.29993296e+01, -4.61966801e+01],\n",
       "       [ 1.64479620e+01,  1.53000036e+01,  1.60644651e+01,\n",
       "         2.77269533e+01,  3.74940747e+01,  5.23314577e+01,\n",
       "         5.29398754e+01,  5.31872297e+01,  5.09916965e+01,\n",
       "         3.69226249e+01,  1.03693256e+01,  2.24319481e+01,\n",
       "         2.26584662e+01,  1.96735594e+01,  1.92081112e+01,\n",
       "         1.63740524e+01,  1.54492842e+01,  1.36695680e+01,\n",
       "         2.12195842e+01,  3.18069951e+01,  2.79702117e+01,\n",
       "         2.63323984e+01,  2.41040675e+01,  1.53221808e+01,\n",
       "         1.22176256e+00,  4.50149774e+00,  1.03966117e+01,\n",
       "         8.94159775e+00,  7.51344096e+00,  5.13517720e+00],\n",
       "       [ 1.15619566e+01,  5.18647277e+00,  2.61999319e+00,\n",
       "         4.52444514e+00,  1.09716376e+00,  9.67805702e-01,\n",
       "         1.27977611e+00,  6.21141258e+00,  1.33562573e+01,\n",
       "         1.45832597e+01,  6.12279068e+00,  1.40880270e+00,\n",
       "         4.15600239e+00,  6.10965396e+00,  4.26640114e+00,\n",
       "         3.31984909e+00,  3.99589220e+00,  8.98243979e+00,\n",
       "         2.18565167e+01,  2.62766751e+01,  2.41051611e+01,\n",
       "         2.43384890e+01,  1.87899511e+01,  1.29886058e+01,\n",
       "         7.35412345e+00,  1.18376434e+01,  1.49405051e+01,\n",
       "         1.25061081e+01,  1.53494119e+01,  1.42781775e+01],\n",
       "       [-1.57103721e+01, -1.69164935e+01, -1.79128825e+01,\n",
       "        -2.11485079e+01, -2.67068376e+01, -4.13610003e+01,\n",
       "        -5.46335075e+01, -5.10127901e+01, -5.10965989e+01,\n",
       "        -4.55776260e+01, -3.87178845e+01, -5.95245625e+01,\n",
       "        -7.08507716e+01, -6.46036527e+01, -5.54083040e+01,\n",
       "        -5.27632479e+01, -4.86244285e+01, -4.61307012e+01,\n",
       "        -4.02759734e+01, -4.27028224e+01, -3.78973928e+01,\n",
       "        -3.01312113e+01, -2.60060650e+01, -2.24003392e+01,\n",
       "        -1.51895823e+01, -1.02275868e+01, -1.11245326e+01,\n",
       "        -9.52758955e+00, -1.46858832e+01, -1.37449564e+01],\n",
       "       [-1.69517551e+00,  4.01769717e-01,  4.48920196e+00,\n",
       "         9.54736223e+00,  1.52836704e+01,  6.68884963e+00,\n",
       "        -1.87702151e+00, -8.72160562e-01, -6.43832339e+00,\n",
       "        -1.15114361e+01, -6.19355651e+00, -1.23698765e+01,\n",
       "        -1.97786521e+01, -1.32534509e+01, -5.71628940e-02,\n",
       "         4.03175173e+00, -3.80119329e-01, -1.62777525e+01,\n",
       "        -2.13965924e+01, -2.48061514e+01, -2.26109343e+01,\n",
       "        -1.84865068e+01, -1.88147078e+01, -1.82524032e+01,\n",
       "        -1.74099338e+01, -1.53844465e+01, -1.22259665e+01,\n",
       "        -1.09389773e+01, -1.18602175e+01, -2.41897935e+00],\n",
       "       [-2.92821087e+00, -2.99588956e+00, -4.22586035e+00,\n",
       "        -2.62015388e+00, -4.37580372e+00, -1.59039331e+01,\n",
       "        -1.61095969e+01, -1.07833077e+01, -5.51483234e+00,\n",
       "        -1.25839403e+00, -5.04936905e+00, -1.14164863e+01,\n",
       "        -1.33146802e+01, -5.67627361e+00,  5.57632410e-01,\n",
       "         4.25765288e-01,  9.88899954e-01, -2.87216722e+00,\n",
       "        -5.32850607e+00, -5.44111499e-01,  3.19306135e+00,\n",
       "         1.93325614e+00,  2.97986961e+00,  2.64169857e+00,\n",
       "         1.16107411e+00, -4.09554421e+00, -2.19674346e+00,\n",
       "        -2.30017423e+00,  3.30025833e+00,  7.74610227e+00],\n",
       "       [-1.36687940e+01, -8.09104494e+00, -7.29029071e+00,\n",
       "        -1.29298686e+01, -1.84147032e+01, -3.13324054e+01,\n",
       "        -3.31913837e+01, -2.92060907e+01, -2.46573424e+01,\n",
       "        -2.42592408e+01, -2.51956057e+01, -2.27081948e+01,\n",
       "        -1.40589722e+01, -1.11525667e+01, -1.03968494e+01,\n",
       "        -1.02247863e+01, -7.92915567e+00, -1.19588381e+01,\n",
       "        -1.60856347e+01, -1.42557309e+01, -1.68145044e+01,\n",
       "        -1.92149112e+01, -1.51366248e+01, -1.20089112e+01,\n",
       "        -9.27887958e+00, -1.02680598e+01, -1.00753331e+01,\n",
       "        -1.00777695e+01, -1.17777862e+01, -1.17860064e+01],\n",
       "       [ 3.09915612e+00,  1.18384926e+01,  1.64125073e+01,\n",
       "         1.49911326e+01,  1.75683670e+01,  3.93542626e+00,\n",
       "        -4.60205048e-01,  3.92022140e-01, -1.11289090e+00,\n",
       "        -4.57104938e+00, -5.49625177e-01,  7.27005933e+00,\n",
       "         1.91844685e+01,  1.84296649e+01,  2.06864724e+01,\n",
       "         2.01678190e+01,  1.82742783e+01,  9.06682196e+00,\n",
       "         3.77564091e+00,  1.50850865e+00, -2.69747951e+00,\n",
       "        -8.95777299e+00, -8.07878969e+00, -2.51589837e+00,\n",
       "         3.06531321e+00,  4.38071803e+00,  4.87720512e+00,\n",
       "         3.19170881e+00,  1.03314483e+00, -6.45627010e-01],\n",
       "       [-9.85603860e+00, -1.20171417e+01, -7.96662924e+00,\n",
       "        -1.07562904e+01, -1.32475430e+01, -2.72733566e+01,\n",
       "        -3.25052084e+01, -2.80263415e+01, -2.67970553e+01,\n",
       "        -2.38086843e+01, -2.33757220e+01, -2.36652259e+01,\n",
       "        -1.59382834e+01, -1.43829916e+01, -1.33495313e+01,\n",
       "        -1.87132737e+01, -2.05823268e+01, -2.01249421e+01,\n",
       "        -1.41243764e+01, -1.03663111e+01, -1.24338443e+01,\n",
       "        -1.96848828e+01, -1.71257475e+01, -9.54606318e+00,\n",
       "        -2.94031013e+00, -3.09641037e+00, -1.05589812e+00,\n",
       "        -1.20823403e+00, -7.76039574e-01, -2.75335535e+00],\n",
       "       [ 5.08607193e+00,  4.08675832e+00,  4.77651204e+00,\n",
       "         4.71406227e+00,  4.31439175e+00, -8.78019940e+00,\n",
       "        -1.05400933e+01, -1.00068482e+01, -1.06431914e+01,\n",
       "        -8.53319755e+00, -1.20439610e+01, -7.68452802e+00,\n",
       "        -3.28423042e+00, -4.12189027e+00, -4.95168307e+00,\n",
       "        -1.06883332e+01, -9.12321742e+00, -9.52988326e+00,\n",
       "        -8.73041841e+00, -1.36451002e+01, -1.68674637e+01,\n",
       "        -2.05144307e+01, -1.47779597e+01, -5.77170751e+00,\n",
       "         4.72918316e+00,  1.94044158e+00,  1.39945537e+00,\n",
       "         1.14635433e+00,  2.57148232e+00,  5.75264435e+00],\n",
       "       [ 1.54924902e+01,  1.41105812e+01,  9.28928697e+00,\n",
       "         7.91888674e+00,  6.87037861e+00,  3.21144200e+00,\n",
       "         3.46966316e+00,  4.84396506e+00,  3.25394674e+00,\n",
       "         1.92326437e+00,  3.89218738e+00,  1.07637133e+01,\n",
       "         1.31678031e+01,  9.08606525e+00,  1.76934772e+00,\n",
       "         1.84072008e+00,  4.34869452e+00,  7.11647130e-01,\n",
       "        -6.89053858e+00, -1.10461161e+01, -1.22707683e+01,\n",
       "        -1.20785295e+01, -7.78777792e+00, -4.61196945e+00,\n",
       "         1.11383304e+00, -1.71840409e+00, -2.08588983e+00,\n",
       "        -1.10969388e+00, -1.86116748e+00, -1.45727421e-02]])"
      ]
     },
     "execution_count": 17,
     "metadata": {},
     "output_type": "execute_result"
    }
   ],
   "source": [
    "mfcc"
   ]
  },
  {
   "cell_type": "code",
   "execution_count": 16,
   "metadata": {},
   "outputs": [
    {
     "name": "stdout",
     "output_type": "stream",
     "text": [
      "(13, 30)\n",
      "(40, 13)\n"
     ]
    }
   ],
   "source": [
    "print(mfcc.shape)\n",
    "print(mfccs[0].shape)"
   ]
  },
  {
   "cell_type": "code",
   "execution_count": null,
   "metadata": {},
   "outputs": [],
   "source": []
  },
  {
   "cell_type": "raw",
   "metadata": {},
   "source": [
    "'''\n",
    "\n",
    ">> 交叉驗證 - Cross Validation\n",
    "\n",
    "\n",
    "'''"
   ]
  },
  {
   "cell_type": "code",
   "execution_count": 18,
   "metadata": {},
   "outputs": [
    {
     "data": {
      "text/plain": [
       "array([  0,   6,   8,  38,  60,  61,  64,  67,  72,  76,  81,  86,  89,\n",
       "        95, 100, 104, 106, 111, 122, 134, 186, 187, 201, 202, 212, 226,\n",
       "       228], dtype=int64)"
      ]
     },
     "execution_count": 18,
     "metadata": {},
     "output_type": "execute_result"
    }
   ],
   "source": [
    "find(labels == 'chaussure')"
   ]
  },
  {
   "cell_type": "code",
   "execution_count": 19,
   "metadata": {},
   "outputs": [
    {
     "name": "stdout",
     "output_type": "stream",
     "text": [
      "[1, 2, 3, 4, 5, 6]\n",
      "[1 4 2 5 6 3]\n"
     ]
    }
   ],
   "source": [
    "train = [1, 2, 3]\n",
    "train += [4, 5, 6]\n",
    "print(train)\n",
    "array_train = array(train)\n",
    "shuffle(array_train)\n",
    "print(array_train)"
   ]
  },
  {
   "cell_type": "code",
   "execution_count": null,
   "metadata": {},
   "outputs": [],
   "source": []
  },
  {
   "cell_type": "code",
   "execution_count": 27,
   "metadata": {},
   "outputs": [],
   "source": [
    "def generate_train_test_set(P):\n",
    "    train = []\n",
    "    test = []\n",
    "\n",
    "    for s in set(labels):\n",
    "        all = find(labels == s)\n",
    "        shuffle(all)\n",
    "        train += all[:-P].tolist()\n",
    "        test += all[-P:].tolist()\n",
    "        \n",
    "    return train, test"
   ]
  },
  {
   "cell_type": "code",
   "execution_count": 28,
   "metadata": {},
   "outputs": [
    {
     "data": {
      "text/plain": [
       "(245, 245)"
      ]
     },
     "execution_count": 28,
     "metadata": {},
     "output_type": "execute_result"
    }
   ],
   "source": [
    "len(labels), len(labels)"
   ]
  },
  {
   "cell_type": "code",
   "execution_count": 29,
   "metadata": {},
   "outputs": [
    {
     "data": {
      "text/plain": [
       "array([[1., 1., 1., ..., 1., 1., 1.],\n",
       "       [1., 1., 1., ..., 1., 1., 1.],\n",
       "       [1., 1., 1., ..., 1., 1., 1.],\n",
       "       ...,\n",
       "       [1., 1., 1., ..., 1., 1., 1.],\n",
       "       [1., 1., 1., ..., 1., 1., 1.],\n",
       "       [1., 1., 1., ..., 1., 1., 1.]])"
      ]
     },
     "execution_count": 29,
     "metadata": {},
     "output_type": "execute_result"
    }
   ],
   "source": [
    "ones((len(labels), len(labels)))"
   ]
  },
  {
   "cell_type": "code",
   "execution_count": 30,
   "metadata": {},
   "outputs": [
    {
     "data": {
      "text/plain": [
       "array([[-1., -1., -1., ..., -1., -1., -1.],\n",
       "       [-1., -1., -1., ..., -1., -1., -1.],\n",
       "       [-1., -1., -1., ..., -1., -1., -1.],\n",
       "       ...,\n",
       "       [-1., -1., -1., ..., -1., -1., -1.],\n",
       "       [-1., -1., -1., ..., -1., -1., -1.],\n",
       "       [-1., -1., -1., ..., -1., -1., -1.]])"
      ]
     },
     "execution_count": 30,
     "metadata": {},
     "output_type": "execute_result"
    }
   ],
   "source": [
    "ones((len(labels), len(labels))) * -1"
   ]
  },
  {
   "cell_type": "code",
   "execution_count": null,
   "metadata": {},
   "outputs": [],
   "source": []
  },
  {
   "cell_type": "code",
   "execution_count": 31,
   "metadata": {},
   "outputs": [
    {
     "name": "stdout",
     "output_type": "stream",
     "text": [
      "Wall time: 15.6 ms\n"
     ]
    }
   ],
   "source": [
    "%%time \n",
    "\n",
    "from dtw import dtw\n",
    "\n",
    "# DP 來加速多個測試  - DP to speed up multiple tests\n",
    "D = ones((len(labels), len(labels))) * -1\n",
    "\n",
    "def cross_validation(train, test):\n",
    "    score = 0.0\n",
    "    for i in test:\n",
    "        x = mfccs[i]\n",
    "        dmin, jmin = inf, -1\n",
    "        for j in train:\n",
    "            y = mfccs[j]\n",
    "            d = D[i, j]\n",
    "            \n",
    "            if d == -1:\n",
    "                d, _, _, _ = dtw(x, y, dist=lambda x, y: norm(x - y, ord=1))\n",
    "                D[i, j] = d                \n",
    "            if d < dmin:\n",
    "                dmin = d\n",
    "                jmin = j\n",
    "        score += 1.0 if (labels[i] == labels[jmin]) else 0.0\n",
    "        \n",
    "    return score / len(test)"
   ]
  },
  {
   "cell_type": "code",
   "execution_count": null,
   "metadata": {},
   "outputs": [],
   "source": []
  },
  {
   "cell_type": "code",
   "execution_count": 32,
   "metadata": {},
   "outputs": [
    {
     "name": "stdout",
     "output_type": "stream",
     "text": [
      "Recognition rate 41.66666666666667%\n",
      "Time used: 46.457934s\n",
      "Wall time: 46.5 s\n"
     ]
    }
   ],
   "source": [
    "%%time\n",
    "\n",
    "start = time.clock()\n",
    "train, test = generate_train_test_set(P=1)\n",
    "rec_rate = cross_validation(train, test)\n",
    "print('Recognition rate {}%'.format(100. * rec_rate))\n",
    "print(\"Time used: %fs\"%(time.clock() - start))"
   ]
  },
  {
   "cell_type": "code",
   "execution_count": null,
   "metadata": {},
   "outputs": [],
   "source": []
  },
  {
   "cell_type": "code",
   "execution_count": 33,
   "metadata": {},
   "outputs": [
    {
     "name": "stdout",
     "output_type": "stream",
     "text": [
      "Time used: 833.082281s\n"
     ]
    },
    {
     "data": {
      "image/png": "[encoded data removed]",
      "text/plain": [
       "<matplotlib.figure.Figure at 0x1f770f1b550>"
      ]
     },
     "metadata": {},
     "output_type": "display_data"
    }
   ],
   "source": [
    "start = time.clock()\n",
    "P = arange(1, 10)\n",
    "N = 5\n",
    "\n",
    "rec = []\n",
    "for p in P:\n",
    "    r = [cross_validation(*generate_train_test_set(p)) for _ in range(N)]\n",
    "    rec.append(r)\n",
    "    \n",
    "rec = array(rec)\n",
    "rec = rec.reshape((N, -1))\n",
    "\n",
    "errorbar(P - 0.5, mean(rec, axis=0), yerr=std(rec, axis=0))\n",
    "xticks(P - 0.5, P)\n",
    "ylim(0, 1)\n",
    "print(\"Time used: %fs\"%(time.clock() - start))"
   ]
  },
  {
   "cell_type": "code",
   "execution_count": null,
   "metadata": {},
   "outputs": [],
   "source": []
  },
  {
   "cell_type": "code",
   "execution_count": null,
   "metadata": {},
   "outputs": [],
   "source": []
  },
  {
   "cell_type": "code",
   "execution_count": null,
   "metadata": {},
   "outputs": [],
   "source": []
  },
  {
   "cell_type": "code",
   "execution_count": null,
   "metadata": {},
   "outputs": [],
   "source": []
  },
  {
   "cell_type": "code",
   "execution_count": null,
   "metadata": {},
   "outputs": [],
   "source": []
  },
  {
   "cell_type": "code",
   "execution_count": null,
   "metadata": {},
   "outputs": [],
   "source": []
  }
 ],
 "metadata": {
  "kernelspec": {
   "display_name": "Python 3",
   "language": "python",
   "name": "python3"
  },
  "language_info": {
   "codemirror_mode": {
    "name": "ipython",
    "version": 3
   },
   "file_extension": ".py",
   "mimetype": "text/x-python",
   "name": "python",
   "nbconvert_exporter": "python",
   "pygments_lexer": "ipython3",
   "version": "3.6.4"
  }
 },
 "nbformat": 4,
 "nbformat_minor": 2
}
